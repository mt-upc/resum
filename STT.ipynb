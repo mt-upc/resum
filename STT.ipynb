{
  "cells": [
    {
      "cell_type": "markdown",
      "metadata": {
        "id": "v5hvo8QWN-a9"
      },
      "source": [
        "# Installing Whisper\n",
        "\n",
        "The commands below will install the Python packages needed to use Whisper Speech To Text (STT) package"
      ]
    },
    {
      "cell_type": "code",
      "execution_count": 1,
      "metadata": {
        "id": "ZsJUxc0aRsAf"
      },
      "outputs": [],
      "source": [
        "# ! pip install git+https://github.com/openai/whisper.git\n",
        "# ! sudo apt install ffmpeg"
      ]
    },
    {
      "cell_type": "code",
      "execution_count": 2,
      "metadata": {
        "id": "3CqtR2Fi5-vP"
      },
      "outputs": [],
      "source": [
        "import os\n",
        "import torch\n",
        "import whisper"
      ]
    },
    {
      "cell_type": "code",
      "execution_count": 3,
      "metadata": {},
      "outputs": [
        {
          "name": "stdout",
          "output_type": "stream",
          "text": [
            "Using device: cuda\n"
          ]
        }
      ],
      "source": [
        "DEVICE = \"cuda\" if torch.cuda.is_available() else \"cpu\"\n",
        "print(f\"Using device: {DEVICE}\")"
      ]
    },
    {
      "cell_type": "markdown",
      "metadata": {
        "id": "0ljocCNuUAde"
      },
      "source": [
        "## Running inference\n",
        "\n",
        "The following will take a few minutes to transcribe."
      ]
    },
    {
      "cell_type": "code",
      "execution_count": 4,
      "metadata": {
        "colab": {
          "base_uri": "https://localhost:8080/"
        },
        "id": "_PokfNJtOYNu",
        "outputId": "5ace74d4-ff20-4830-fe78-958881ec3905"
      },
      "outputs": [],
      "source": [
        "language = \"Catalan\"\n",
        "model_size = \"large-v3\"  # \"large-v3\" recommended for production\n",
        "model = whisper.load_model(model_size)"
      ]
    },
    {
      "cell_type": "code",
      "execution_count": 5,
      "metadata": {
        "id": "F74Yfr696Of5"
      },
      "outputs": [],
      "source": [
        "transcribe_options = dict(task=\"transcribe\", language=language, beam_size=5, best_of=5, word_timestamps=True)"
      ]
    },
    {
      "cell_type": "code",
      "execution_count": 6,
      "metadata": {
        "colab": {
          "base_uri": "https://localhost:8080/",
          "height": 49,
          "referenced_widgets": [
            "8cdc3b2a910748e98327462922dc008a",
            "32bd3d1217f24bb8a5e2f853633098d8",
            "dd93a997785a41568a8aba9cf5c0d83a",
            "956741460c504706aa097058dbc6eecf",
            "e4024c536d594ea2be54f471eacd485f",
            "f8eb2f7fc8c1400bb8dc351ea7fa6cfa",
            "76677587cf184477bafcc9d5459b5767",
            "50a75e807f144f438032a8fcdb9cdbe0",
            "dafffcc9b35c4bca95f19079d7c8be60",
            "73a0e8df4bb940bc8feae14e0a66d9c5",
            "ccdbe78adf2f4011946e290c81bd1a51"
          ]
        },
        "id": "7OWTn_KvNk59",
        "outputId": "7fc0731d-fba1-42da-8145-387d280f4bb1",
        "scrolled": false
      },
      "outputs": [],
      "source": [
        "# audio_path = \"../ccma/data/6255130.mp4\"\n",
        "audio_path = \"../ccma/data2/original_3.mp4\"\n",
        "transcription = model.transcribe(audio_path, **transcribe_options)"
      ]
    },
    {
      "cell_type": "code",
      "execution_count": 7,
      "metadata": {},
      "outputs": [
        {
          "data": {
            "text/plain": [
              "\" I en primer el teu nom i cognoms. Doncs jo em dic Sara Montes. Tu t'has de posar més cap aquí, Marta. Aquí? Sí. Jo t'aviso... Aquí no m'entres. Vale. I si tu la mires amb ella, esteu perfectes. Sara Montes. Sí. Bé, a veure, nosaltres... Bé, una parella normal i corrent, no? Un dia li va començar a fer mal l'esquena... Perdona, eh? Ah, no, no, digue'm. Jo no sé, o sigui, començo una mica com al principi o no? Sí, sí, sí. T'he de preguntar, una mica, perquè estem aquí, què va passar. Doncs nosaltres, a veure, portàvem vuit anys junts, volíem tenir fills, justament acabàvem de donar filles, fins i tot les arres per al pis que ens havien de comprar, i un dia li va començar a fer mal l'esquena. En principi, una cosa normal i corrent, com li pot passar a qualsevol persona, però va anar a més, a més, a més, a més, cada dia li feia més mal, fins que un dia vam anar a l'hospital perquè ens diguessin una mica, oi, què passa, no?, que és un anunval, jo, què és? I ja ha arribat aquest moment, quan li vam fer proves en el mateix moment, ja ens van dir, que el que tenia era un càncer, era càncer de còlon, i el dolor que tenia era el reflex de la malaltia, no? Què passa? Que ell era una persona com molt forta, tenia 33 anys, i no s'havia posat malalt a la seva vida. Llavors, el cos era com molt fort, i quan ja va donar signes de la malaltia, ja ho tenia molt extens. Ja tenia el càncer de còlon, tenia filtració a la mèdula òssia, i tenia una... metàstasi del peritoneu, que és aquesta part d'aquí, que era com una cosa molt complicada. O sigui, era un quadre molt difícil. Nosaltres, clar, no som metges, no ho sabíem, quina era la gravetat real. Sí que és cert que des del primer dia van ingressar a l'hospital, va estar ja ingressat des del primer moment, però nosaltres sempre teníem com l'esperança una mica de que, bueno, la medicina està molt avançada, segur que trobaran alguna cosa, ets molt jove, molt fort, tu tranquil, que tot anirà bé... Però és cert que els metges, amb el quadre que tenia, ja no tenien massa esperança. És el que nosaltres això no ho sabíem. Com volíem ser pares, abans que comencés amb la químio, jo li vaig preguntar als metges, oi, aquesta químio deixa estèril a la gent, perquè era una químio molt forta, i em van dir sí. Llavors ho vam comentar entre els dos, i van dir, oi, si és així, anem, fem una reserva d'esperma, i encara que facin la químio no passa res, quan ja estiguis tu millor, si volem ser pares, ja ho tenim allà, i podem, i no passa res. Sí, sí, vam prendre la decisió, vam anar a Puigvert, vam fer la reserva d'esperma, i fins aquí bé. El que passa és que la malaltia va anar avançant, va anar avançant molt, molt ràpid, perquè des que va entrar, fins que ell va morir, i van passar ni dos mesos, va ser molt, molt, molt, molt ràpid, i bé, bàsicament va ser això, o sigui, va avançar molt ràpid, la químio no funcionava, no donava el resultat que nosaltres volíem, i ell finalment, doncs, va morir. Llavors, clar, aquí entres en un dol molt complicat, perquè, clar, lo difícil és fer-te una mica la idea, no?, de la situació. És complicat. Eh... El temps, a més, quan són aquest tipus de pèrdues, que tu perds a la pastora el que més vols al món, no?, al final és això. Els primers mesos estàs com una mica en xoc. No t'acabes de fer la idea de lo que ha passat. Això, quan passen dos, tres, quatre mesos, és quan realment comença el dol més intens, perquè és quan comences a assimilar lo que ha passat. Al principi estàs una mica en xoc, és difícil d'entendre la situació, no? Clar, quan arribes a aquest punt, tens dos camins. O sigui, tens el camí de no faig res, m'acabo depressiva, et vés a saber com malament, o prenc el camí d'intentar tirar cap endavant, ell voldria que jo continués cap endavant, llavors hem de ser forts, i encara que sigui difícil, hi ha moments en els que realment penses no podré, però has de tirar cap endavant. A més, a tot això jo sempre havia tingut una mica al cap lo que vam fer, la reserva d'esperma, que volíem ser pares, intentar com recuperar una part de lo que tenia que haver sigut la nostra vida. Tota l'estona ho tenia al cap, però clar, estàs malament. I dius, o és una decisió difícil, no saps molt bé què fer, ho vaig valorar molt bé, finalment vaig prendre la decisió de parlar amb Puigverd, que m'informessin, i m'expliquessin una mica tot el procés, i jo a veure si realment tenia ànims i cor com partir cap endavant jo sola amb això. Ells em van comentar una mica com anava tot lo de l'inseminació artificial, quan agafes una reserva d'esperma i la persona mor, doncs morta només tens un any. A l'any, les mostres les eliminen. No hi ha manera de que es quedi més temps, no hi ha manera. Llavors, a més, que estàs en un dol molt intens, tens molt poc temps de reacció. Has de prendre la decisió ja o serà tard. Llavors has d'anar com, són com dues emocions molt, que et xoquen contínuament, no? És difícil, però has de prendre la decisió, si no, no hi ha manera. Em van explicar què tenia que fer, estàs amb unes injeccions un temps, a la panxa, són unes hormones que t'han de donar per preparar el cos per la inseminació, després vas un dia, és una intervenció quirúrgica, és a dir, és a la quiròfana, et treuen els òvuls, i després al laboratori, els junten i fan els embrions. Com Christian, com tenia un dolor molt fort amb el càncer, li donaven dosis molt altes de fentanilo, que això influeix també la qualitat de l'esperma. Llavors, van intentar fer les mostres dels embrions, però no sortien massa bé. Normalment, la inseminació, un cop que junten l'òvul amb l'embrió són 5 dies, però a mi el tercer dia em van trucar, vine ràpid, perquè estan sortint molt pocs, només 3 embrions, un pinta malament, pràcticament queden dos, i tenien que avançar l'operació, perquè si no probablement no sortiria. Vaig anar com d'urgències entre cometes, no vaig anar abans de temps, quan vaig arribar només quedaven dos embrions, només dos, i el que millor pinta tenia, van dir posem aquest. Ja em van dir, no tinguis massa esperances, perquè no pinta molt bé, han sortit molt pocs, la qualitat... Tenim opció de fer una altra intervenció si aquesta surt malament. Ja que estem aquí, endavant, tirem cap endavant, i ja que ha arribat fins a aquest punt, ja ho fem. Vam agafar el que millor pinta tenia, el vam posar, i a les poquetes hores l'altre va caure. No va sobreviure cap embrió, va ser posar-ho i va ser com... Tal, no? Jo tots els dies m'aixecava, pensava, segur que avui ja surt malament, no passa res, tinc una altra oportunitat, però vam anar passant els dies, els dies van anar passant, i quan em vaig adonar, bueno, ja havien passat uns mesos, la cosa anava cap endavant, eh... tot anava bé, contra pronòstic, perquè no tenia cap pinta de que això tirés cap endavant bé, però sí. I bueno, el PQ venia bé, totes les proves anaven bé, jo tot el procés el vaig fer sola, no li vaig dir a ningú res, només una amiga, perquè algú em tenia que acompanyar a l'hospital i era infermera, sabia de què anava tot, sí que només ho sabia una persona, tota la decisió la vaig prendre sola, perquè al final, bueno, era algo que només podia decidir jo, així que tampoc volia que a mi influeix la opinió de ningú. Llavors, fins que el PQ ja no va estar, ja no vaig estar jo embarassada tres mesos, tres o tres i mig, no vaig començar a dir-li a la gent he pres aquesta decisió, he fet això, està sortint bé, serem mare, i ja, pues bueno, ja quan ja tot estava bé ja vaig començar a dir-ho a la família de Christian, a la meva família, la gent molt contenta, jo sí que sé que en tot moment, clar, tens por, tens por, perquè encara que jo fins que no vaig estar tres mesos era com que no ho he fet, era com que estàs una mica, com tot ha anat tan ràpid, i vaig haver de prendre la decisió tan ràpida, doncs estàs com una mica que encara no, bueno, no l'acabes de pair. Ja els tres mesos i ja quan vaig començar a explicar-s'ho a tota la gent, jo també m'ho vaig començar a creure, i vaig, hòndia, que sí que ho he fet, que sí que he arribat fins aquí. Per una part contenta, perquè encara que continues portant tot el dol, que és molt difícil, però, per aquesta part, deia, ara hi ha com llum al final del túnel, abans no. Abans estàs ficat en un túnel i no veus llum al final, perquè dius, és que com continuaré la meva vida sense ell? No puc. És impossible. Hi ha vegades que és això i que penses així. Però ara, en aquest moment, jo tenia alguna cosa a què agafar-me, tenia una esperança, tenia alguna cosa, i a més alguna cosa que era nostra. Meitat d'ell i meitat meva. O sigui, que era com, he pogut recuperar alguna cosa de nosaltres i alguna cosa de la que tenia que haver sigut de la nostra vida. Llavors, encara que el dol era molt difícil, tenia aquesta part. Llavors, era molt positiu. I, de fet, em va ajudar moltíssim, òbviament. A veure, prendre aquesta decisió, crec que és el millor que he fet. O sigui, no me'n penedeixo, no me'n penedit en cap moment. I, bueno, recomanaria a tothom que estigués en una situació similar que, si dubtes, fes-lo. Fes-lo, perquè és el millor que pots tenir. Llavors, van avançant tot. L'embaràs va anar avançant bé. Tot va anar bé. Tenia molts recolzaments, sobretot, de la seva família. Han estat sempre sent amb mi en tot moment. I llavors, va arribar el dia que ella naixés, que també tot va anar molt bé. També amb tot el recolzament de la família. I res, el peque va arribar molt bé. Està, sap, que és el més important. Arribats al dia d'avui, ja, el més important en aquesta vida és tenir salut. Ja ho hem vist. Sense això no es fa res. I la veritat és que molt contenta. És una decisió molt important i molt difícil que vaig haver de prendre, però estic molt contenta d'haver-la après. Estic molt contenta amb el peque i estic molt contenta d'haver pogut aconseguir alguna cosa dels dos, de nosaltres. Com haver recuperat alguna cosa d'ell. Per mi, per la seva família i per tots. Així que, molt contenta. Continuem, òbviament amb el dol perquè no fa ni un any i mig que ell va morir. I òbviament és molt difícil. Els dies no es fan fàcils perquè moltes vegades penses òndia, si ell estigués aquí ara m'ajudaria, ara jugaríem, ara faríem això. I no pot ser. Però, el tenim a ell. Llavors això és superimportant. Sí. Vale. Ai. No passa res. No m'has deixat fer cap pregunta. No t'he deixat fer preguntes. No. Ja he sortit tot. És espectacular. Sí, sí, jo no sé si estic deixant alguna cosa o no. No. No. Més a l'esquerra? Quan tu, o sigui, quan li fan la preservació, tu recordes que us expliquessin això del postmortem? Sí. Com va ser aquell moment? Què us diuen? Aquell moment, o sigui, nosaltres vam arribar, li vam fer la presa de l'esperma i ahir ens van comentar que postmortem només hi havia un any de temps màxim. A l'any les proves s'eliminaven i no havia possibilitat de guardar-ho més temps. Clar, jo en aquell moment em vaig quedar com bueno, i a mi què m'expliques? Postmortem, no? Si estarem junts estarem la mar de vell. A ell també li van explicar i va tenir que signar un paper per donar consentiment si ell donava això, consentiment de que postmortem, si això passava, jo pogués fer servir l'esperma o no. Era decisió seva i podia posar que no. Però ell va posar que sí, ho van signar i teníem el document signat com que si això passava jo podia fer-lo servir. Clar, jo en aquell moment quan m'ho van dir em van quedar així una mica com, què dius? Postmortem. Sí, super jove, no s'ha posat en la vida, sortirem d'aquesta òbviament. Però clar, és que els metges quan veien el quadre que tenia ells ja sabien que era molt difícil. Nosaltres no ho sabíem. Però és que des del primer dia que va arribar a l'hospital, realment no hi havia res a fer. El que passa és que ho van intentar, ho van intentar perquè era molt jove, però ja només la metàstasi que tenia aquell peritoneu, només això, ja era una malaltia que la gent sobreviu 40-50 dies. Amb la metàstasi que tenia. I ell va durar dos mesos, que era ja com un mes. De l'esperança de vida que donen amb aquest tipus de malaltia de norma general. Però vosaltres, és això, us ho diuen, però tampoc en parleu de... No, no parlem. No us ho plantegeu realment. No, no, no, a més l'enfermetat era molt era molt, molt bèstia. O sigui, ell estava amb molts dolors, molts calmants. Nosaltres vam fer això, sí que és cert que abans d'aquell espòsies malalt, abans sí que havien parlat d'això. De fet, el nom que li vaig posar ja ho havien parlat nosaltres prèviament. El piset que ens havien mirat, havien mirat les escoles que hi havia al costat, els parcs que hi havia al costat, que bueno, finalment no van arribar a l'hipoteca, no el van poder comprar, però vosaltres ho teníem tot pensat. Volíem ser pares. Però sí que és cert que un cop havien fet la preservació in vitro de l'esperma, sí que és cert que no vam tornar a parlar, perquè l'enfermetat no li permetia tampoc... És que va molt, molt ràpid. Vosaltres, és això, no ho vau parlar perquè no us ho plantejàveu, aquesta possibilitat que va acabar sent... No, nosaltres vam fer la reserva perquè sabíem que es quedaria estèril després de la quimio. Però era perquè quan ell estigués bé, llavors, fer-ho. Però en principi els dos. Aquesta era la idea. Clar, les coses no sempre surten com volem, no? I la situació no va ser aquesta. Però sí, o sigui, vam parlar d'això. I tu, és el que tu deies, no és un dol, és un xoc, no? Al principi quedes en xoc. O sigui, quan és que de cop dius ostres, em van dir això, no? Hi ha un moment que reconectes amb... Sí, no va ser molt tard. O sigui, a les setmanes jo ho tenia al cap. I a les setmanes vaig dir un dia, em recorda que tens això, aquesta possibilitat. Que clar, estàs en un moment molt difícil. I pensar en això és com subrealista, realment. Com puc estar pensant en això si s'ha mort fa un mes? Saps? És com superdifícil. Però recordava allò de l'any, que només tenia un any. I llavors, de vegades pensava, de vegades ho pensava, i ja quan van passar tres o quatre mesos que ell va morir, va ser quan vaig decidir truco a la Puigverd, que m'informin, no sé quin és el temps d'espera, que m'apuntin. Jo de moment vaig fent el meu dol i quan arribi el moment, si per casualitat jo no estic preparada i no puc, oi, mira, no puc, no puc fer-ho. I dic que no. Però ja m'apunto, que em posin a la llista, que em tinguin en compte, i jo de mentre vaig rumiant, em vaig pensant, imaginant-me la meva vida com seria, si puc tirar cap endavant amb això o no, i així va ser. I jo de cara al setembre vaig parlar amb la Puigverd i al gener tenia hora per fer la intervenció. Clar, o sigui, el que hi hagi el límit d'un any us posa en una pressió, que potser que hauríeu de tenir més temps per prendre una decisió així, no? Sí, a més també, bé, no sé si li passa a tothom, però sí que he sabut d'algunes persones que li ha passat, quan tens un dol tan gran, bé, jo menjava, jo menjava tots els dies, però jo vaig perdre 13 quilos en molt poc temps, menjant. O sigui, el cos et fa com una reacció estranya, no sé per què, no sé, per menjar els nervis o no ho sé. Llavors, clar, jo venia d'haver perdut molt de pes, d'estar anímicament malament, i això tampoc era el millor quadre per fer una inseminació in vitro. Llavors ho vaig explicar, dic, no hi ha manera alguna que jo pugui recuperar-me una mica físicament, agafar una mica més de pes, estar una mica millor, fer l'operació, i ells van dir, és que tens un any. Tenia fins al maig. I al maig ja no hi havia res a fer. I clar, si jo feia la intervenció i sortia malament, tenia que esperar dos o tres mesos que el cos tornés a regular-se per poder fer una segona intervenció. Llavors, és que no és que, bueno, és que és al maig, ho faig al maig. No, no, perquè si sortia malament tenia que tenir uns mesos per fer una segona opció que gairebé, bueno, no va pintar massa bé, però al final van tenir sort, no? Però si no hagués sortit bé, tenia el temps justet per una segona opció. Si una tercera ja no hagués donat temps, ja no hagués pogut. Vas tenir suport psicològic? És a dir, has tingut acompanyament per tot això? Sí. Quan jo vaig parlar amb la Puigverd per sotmetre'm a la intervenció, automàticament em van derivar a un psicòleg d'ells de Puigverd perquè em fes com un... Bueno, et fan com una espècie de reconeixement general per veure si estàs bé, si no, per què vols tenir el bebé... Bueno, suposo que per assegurar-se que psicològicament estiguis preparat per poder ser mare, no? Jo sí que és cert que, bé, sempre he sigut una persona anímicament bastant forta dins del que hi cap. Llavors em van fer tot l'estudi psicològic, va sortir que jo estava perfectament, l'únic que, clar, era un dol molt dur, una pèrdua molt ràpida, molt gran, en un moment de la nostra vida que estàvem en el millor moment de la nostra vida i just quan estàs en el millor moment que et passi això, clar, és un xoc molt gran. Llavors em van fer l'estudi psicològic, van veure que va tot bé. Sí que és cert que després d'això m'ha estat visitant la psicòloga fins a dia d'avui cada setmaneta per veure una mica com vaig amb el dol, com vaig amb el peque, com tot, però sí, llavors he tingut suport psicològic i el continuo tenint, així que molt bé. Sí, per aquesta part molt bé. Però tu si veus que fa un any, o sigui, tu ara que et veus fa un any, no? Ostres, posar-te en aquesta tessitura de dir decideix-te, no? Sí. És molt agressiu, no? Sí. No, nits sense dormir, pensant, jo fent-me-ho molt organitzada, organitzant-me els horaris, com serà l'horari, quants diners gastaré, podré jo sola, tinc sort que tinc un bon treball, però clar, una persona sola no és el mateix, has de pagar moltes coses, ja, viure un sol d'hipoteques o d'alquilers o de menjar ja és ja és important, un sol més un nen, guardaries, penyals, menjar, clar, jo em vaig haver de fer tots els números perquè jo no volia llançar-me a la piscina sense saber si podia tirar cap endavant o no, llavors jo vaig estar mesos pensant, mesos fent-me els meus podré, no podré arribar, no arribaré, fins que vaig prendre la decisió, però que jo vaig trucar a la Puigvert abans de tenir la decisió 100% presa per no perdre el temps, perquè era molt poc. Per què no li dius a ningú? Perquè no volia que m'influís la decisió de ningú, pensava, i si algú em diu, no, estàs boja, què fas, és molt jove, ja trobaràs algú, que això m'ho han dit moltes vegades, però és que no, no, no va així, no és molt jove, ja trobaràs algú, o sigui, jo ara mateix això de tenir parella és una cosa que em sembla supranarista, no és tan fàcil, ja trobaràs algú, no, les persones no es canvien com les samarretes, saps, al final no és tan fàcil, i llavors hi hauria gent que em diria això, que ja m'ho havien dit, altra gent que sí, sí, fes-ho tal, i no volia, era una decisió de finals, era jo la que hauria de viure amb això, era una decisió que havia de prendre jo sola, i llavors ho vaig portar jo sola perquè en aquell moment és el que vaig sentir que havia de fer, que segurament tenir recolzament d'altres persones està molt bé, i animo altres persones a que agafin recolzament amb altres persones que li comentin, però en un cas jo volia tenir la decisió únicament meva, que ningú m'hagués influït, i així ho vaig fer. Com és quan els dius als teus sobres que t'ho parla, perquè ells, o sigui, per les segones persones que més impacte té aquest naixement, suposo que és pels teus sobres que t'ho parlen tu, evidentment. Sí, sí, jo tenia el meu discurs preparat per explicar-l'hi, vaig anar a casa seva, em vaig seure al mig del saló, tenim que parlar, i ja s'ho vaig explicar tot des del principi, tot com va anar, quan ho vaig decidir, per què ho vaig decidir, com ho vaig fer, quan ho vaig fer, i bueno, molt emocionats, molt contents, que els anava a tenir a ells tota la vida, per el que necessités, ja ho sabia, que seria així, i molt, molt contents, molt contents, sí. Com va anar, una mica, el... el Pat, no vull dir el problema amb els punts, eh, gairebé, però clar, un Pat és una bomba d'emocions, no? Sí. Com va ser el teu Pat? Al principi, amb les contraccions, bé, bé, perquè aguanto bé el dolor normalment, i bé, no em vaig portar molt bé. Després, ja quan vaig haver d'anar a l'hospital, van venir els meus sobres a buscar-me els dos, vam anar a l'hospital, mentre vaig estar a la sala de part, abans d'entrar al part, que és on estàs amb... no recordo el nom de la sala, però és on estàs abans amb les contraccions, va estar la meva sogra amb mi, acompanyant-me, i ja quan vaig arribar al part, que ja havia dilatat, ja estava tot bé per entrar, sí que és cert que li vaig demanar a la meva sogra que sortís, perquè volia fer-ho sola. En aquest moment, jo volia estar sola. No sé, ho vaig decidir d'aquesta manera, molta gent em va dir, no, no, jo t'acompanyo, tothom, no, jo t'acompanyo, estic amb tu, tal, però era un moment que no, que jo personalment volia estar sola en aquest moment, no sé per què, jo pensava, no, és que si no puc estar amb el Cristian, no puc estar amb ningú. I llavors, vaig decidir estar sola. De totes maneres, l'equip molt maco, van estar molt bé amb mi, no em vaig sentir sola en cap moment, el parc va anar bé, va ser ràpid, i vaig estar molt bé, molt bé, va ser un parc molt bo, molt bo, ràpid, 45 minutets, i ja, i ja està. I tot va anar molt bé, ja després, quan ja vaig pujar a l'habitació, ja sí que van entrar els meus sogres, i ja tothom molt content, i tot això, però en el moment del parc, jo volia estar sola. I el nom ja el tenies decidit. Sí. Sí, perquè aquest nom es diu Lion, aquest nom el vaig escoltar un cop fa molt de temps a uns clients, al fill d'uns clients, i ho vaig comentar amb ell. Li vaig dir, oh, mira, fixa't el nom aquest que no l'he escoltat jo mai, Lion, fixa't, és xulo, eh? Ah, doncs sí, és molt maco aquest nom. Com ja l'havien comentat, dic, és que no l'hi puc posar a un altre. Ens agradava aquest, l'havien parlat els dos, dic, és que ha de ser aquest. Sí, sí. I llavors li vaig posar el nom que havien decidit els dos, i òbviament el seu cognom també, que va ser complicat, perquè tot el tema de papers no és fàcil, no és fàcil, et demanen molts papers, vaig haver d'anar a molts llocs, però finalment li vaig poder posar el cognom, així que bueno, una cosa que semblava difícil, i finalment vaig poder fer. Perquè no era clar que li poguessis posar el cognom? Per què? Deien que com era postmortem, que tenia que tenir un paper signat antenotari d'ell conforme que donava el seu consentiment a posar el seu cognom en cas de tenir un fill i que ell no estigués viu. Però era surrealista perquè nosaltres estàvem a l'hospital, ingressat, com... No, no, no, clar que no tinc el paper antenotari, clar que no, si ni tan sols ha sortit de l'hospital. Ell va ingressar, va sortir tres o quatre dies a casa i els tres o quatre dies va tenir que tornar. No podia estar a casa per el dolor. Llavors no teníem aquest paper. Passa que finalment amb els certificates de defunció, amb el paper signat, un munt de papers que li vaig demanar jo a Sant Pau, donant fe que el fill era seu, jo ja pensava, dic, és que si cal que em faci una prova d'ADN, me la faig. Però és que tu veus una foto d'ell d'anador i és que són idèntics. És que no et fa ni falta anar a prova d'ADN, és que són iguals. A la mare no li ha fet res, que no passa res, que jo encantada que sembli el pare, ni jo prefereixo que sembli el pare. Però, però, clar, vaig haver de reunir molts papers perquè donés fe que realment ell era el pare. Però bueno, ho vaig aconseguir i ara té el seu cognom. Té el seu cognom, però tu constes com a mare soltera? Sí. Sí, nosaltres som família monoparental, perquè clar, com ella va morir, nosaltres no estàvem casats ni res, llavors no tenim cap tipus d'ajuda per part de l'estat de... Bueno, l'ajuda normal i corrent de la gent, però ja està. I llavors sortim com monoparentals. Com estàs tu ara? Contenta. Òbviament tinc dies que estàs més trist, moments en què... Perquè ara és com un segon dol. És com un dol diferent. Perquè ara és cert que estàs tot el dia com... Tens el cap una mica distret amb el peque, que t'ocupa molt de temps, que et rius, que estàs contenta i feliç amb ell, però també hi ha molts moments que el trobes molt a faltar. Perquè dius, jolín, és que si ja dues persones de vegades tenia un peque, és complicat, una sol, de vegades, ai, m'agradaria dutxar-me, i si hi estigués ell, ai, he quedat amb el peque mentre jo em dutxo, però no pots perquè no tens... No està el pare. Tinc la sort de tenir el recolzament de la família. Doncs tinc el meu sogre, ve cada dia a ajudar, la meva sogra també, la meva mare també està ajudant. Tinc ajuda. Però igualment sempre et falta el pare. Però bueno, estic contenta i estic feliç del que he fet, del que he aconseguit, que ell estigui bé, i al final és que és una alegria que tinc que necessitava. És que necessitava tenir algú que diguis, algú pel que lluitar potser, algú pel que tirar cap endavant. I que millor, que millor que el peque. Al final és el millor que podria que podria tenir. Llavors, estic contenta. Estic contenta. És cansat, has de dedicar molt de temps i has de tenir les idees molt clares perquè tindràs menys ajuda que una família normal. Però això jo vaig prendre la decisió el dia que vaig tirar cap endavant. Ja vaig prendre la decisió que estaria sola, ja ho sabia. I ja estic contenta. Sí. És el que tu dius, serà sempre l'alegria i un dol alhora. Perquè és l'alegria de la seva existència, però alhora també sempre et recordarà una absència. Té les dues coses. No, ell sabrà, ell coneixerà qui era el seu pare. Jo li voldré explicar el teu pare era aquest, feia això, feia lo altre, tal... Jo voldré que sàpiga qui era el seu pare. Ell, en part, també viurà un dol. Però ja ho sabia. Ja ho sabia que això passaria. Però el portarem junts. El portarem junts i sí que és cert que aquest tipus de dol no és una cosa que acabi en dos o tres anys. Jo crec que aquest tipus de dol és un dol que dura tota la vida. El que passa és que amb menys intensitat, conforme vagi passant el temps, aprens a conviure amb això. Al final no et queda altra que aprendre a conviure perquè no és això que diguis, no, és que als tres anys faràs així i ja estaràs bé. No, no pots estar bé si és una persona amb la qual jo hauria de passar la resta de la meva vida. No podré fer així els tres anys i estar bé. Però la intensitat va baixant, vas anant fent el teu dia a dia i bueno, el PQ ajuda molt. Ajuda molt. Dóna molta alegria. Has pensat com l'hi explicaràs? Ho he intentat. Ho he intentat, però encara no ho sé massa bé. Suposo que normal. Mira, veus aquesta foto, doncs aquest era el teu pare, tant... Intentaré fer-ho de la manera més natural possible. Sí. De la manera més natural. No veig altra manera de fer-ho. La veritat. Alguna cosa que creguis important que no hem parlat? No sé, jo crec que més o menys tot. No sé si... Una mica ho has dit, però penso que quan tens un nen hi ha aquesta cosa de dir mira, això és teu, això és meu, saps? Els pares sempre diuen... En el teu cas ha de ser molt... El que deus sentir quan li descobreixis gestos... És que ja els té. És que ja té gestos del pare, tan petit. Per exemple, els nens petits xuclen aquest dit. Christian, la meva parella, xuclava aquest. I el Peque xucla aquest. Coses així. S'agafava l'orella i se feia així el Christian, de petit. El Peque ho feia. S'agafa l'orella i se la baixa. Això jo no ho feia. No són gestos meus. Són d'ell. I els ulls, la cara... Té moltes coses d'ell. Moltes, moltes. S'assemblen molt a ell. I tots encantats. A mi m'agrada que tingués coses d'ell. Així que sí. Sí se li assembla, sí. I Lion de fort, eh, també. De Portarès, el nom, no? Sí. Sembolitza esperança. Significa el nom. Sí. Ve del llatí. Perquè és amb Y. És amb Y. No és Lion de Jaó. És com Lion de França, però ve d'una altra banda. Ha sigut coincidència. Però encaixava molt bé. Dic, fixa't. És que li encaixa el nom perfecte més. Sí, sí. I no sé què més us puc explicar. Perfecte. M'ho has fet molt bé. T'has sentit bé? M'he sentit molt bé. I no sé si em deixo alguna cosa. Potser molt ràpid. No sé. Marta, parleu una miqueta més. Faré algun recurs a les teves mans quan parles, perquè ens van bé per tenir una mica de... Que faig jo gestos? No, que no facis esforçament. Ara ell et preguntarà, pobres que jo em moure, però és només per... Tens permís de maternitat? Fins quan? Jo ara tinc, els quatre mesos que et donen, són quatre mesos. Després m'agafaré la lactància, m'agafaré vacances, que tinc moltes acumulades, i després intentaré agafar-me una excedència, si no m'arriba tot, perquè vull estar fins als set mesos amb ell. Clar, perquè les parelles... Si ets un quatre mesos, lactància és un mes, no? Sí, després tinc moltes vacances per agafar, més o menys. Perquè clar, també em sap greu, perquè una parella normal i corrent té vuit mesos. Té quatre mesos la mare i quatre mesos el pare. I després no en tens més? Sé que ho estan lluitant, però encara no ho han aconseguit. Estan lluitant per intentar-ho, però potser d'aquí uns anys sí, però jo ja no ho agafo. Llavors només tinc quatre mesos, i clar, deixar un bebè quatre mesos en una guarderia, no, no ho faré. I encara que jo estigui un temps i tingui que estar un mes o dos sense cobre, no passa res. A la feina ja és possible, eh? Clar, jo soc interiorista i puc treballar també una mica des de casa. Ah, que si no també pots fer una mica de teletreball. Sí, sí. Llavors jo puc fer una mica de teletreball i llavors, doncs, jo fins als set mesos vull estar amb el peque. Perquè el sis acaba amb la lactància materna i comença a papilles, introduir els altres aliments. Llavors aquest mes de l'impàs se'l vull fer jo. Sé que la meva sogra també té intenció de jubilar-se quan jo m'agafi a la feina, però... Sí, encara no estan jubilats els teus sogres. No, és que són molt joves. Bueno, ells tenen, bueno, és que estan molt bé, però ells tenen 62, 63... Són joves. Els queden una mica per jubilar-se encara, però jo sé que la meva sogra vol, sí. Ella quan jo ja comencé a treballar fins als set mesos, encara que jo li digui no, no ho facis. Però ho farà. Home, ja està bé si pots combinar això amb el teletreball. Sí, jo com un cop que comenci a treballar ja en firme, el teletreball... Després tu t'ajudaris tu o no? No, jo crec que faré una mica, potser al principi durant un anyet o dos, mínim, jornada reduïda, suposo que treballaré de deu a quatre, més o menys. Puc deixar-ho a la guarda i després la meva sogra es recollirà abans. Després ja a les quatre plego jo i estic amb ell. Tu has mirat tot, eh? Tens tots els càlculs fets. Jo soc molt... Ho tinc tot organitzat. La vida, tot organitzat. De vegades s'ha de trencar les coses, no? Però m'agrada tenir-ho tot molt controlat dins del que puc. Sí, sí, després ja t'adaptaràs. Després ja m'adaptaré. Però almenys tens un pla. Sí, però jo sempre tinc un pla de com fer les coses, sí. Bueno, per prendre la decisió de tenir el PQ tenia les meves fulles d'Excel, tenia tot fet, eh? Sí, sí, sí, amb horaris, quant costen a l'Espanyol els diners de la menjada, tot, sí, sí. Jo vaig prendre la decisió sabent que ho podia dur a terme. No això de que m'he llançat a la piscina i ara a la meitat de mes ja no tinc diners com compro el menjar. No, no, no. Jo ho vaig organitzar tot molt bé per jo saber que li podia donar una bona vida. A veure, ens podrem anar aquí a Hawaii cada estiu, però no li faltarà de res. Això segur. Jo ja m'he ocupat que no li falti de res. I si algun dia jo no arribo la família ajudarà encantats de la vida. Mai li faltarà de res, segur. Sí, sí. No tot organitzat. És que si no... I ara, això que deies que havíeu mirat la zona, ara vius en una altra zona, eh? Clar, perquè, clar, em vaig quedar en el línia. Hi teníeu un pis mirat i amb amarres i tot? Sí. Amarres i tot? Sí, sí. En dos setmanes firmaven la hipoteca. Quan el van ingressar, en dos setmanes signàvem. Sí. Ho vam tenir que cancel·lar i ens vam quedar en el limbo perquè nosaltres vivíem de lloguer aquí al costat. Havíem marxat del lloguer i estàvem vivint... La meva mare té dues residències, una a Girona i una aquí a Barcelona. Llavors, nosaltres, ella viu a la Girona normalment i teníem la de Barcelona que és de lliure. Llavors, vam anar a viure a la segona residència que s'anava a l'impàs per estar una miqueta més per donar l'entrada i ja comprar el pis. Què passa? Que com no vam poder arribar a signar la hipoteca, em vaig quedar així una mica en el limbo i ara estic a la segona residència de la meva mare vivint. Ara no tinc un pis propi. Estic buscant, òbviament, vull comprar un pis, però està tan complicat que estic intentant... Teniu paciència, eh? Sí. És no tenir pressa, que si tens un lloc és no tenir pressa i al final es troba. No, jo tenia molta pressa. Jo volia tenir, quan tingués el petit, jo tenia que tenir la meva casa. Tenia moltíssima pressa. I va arribar un moment que vaig dir frena. I estava amb la panxa així i on vaig jo ara mirant pisos d'aquí cap allà, cap allà... Jo vaig fer el mateix que tu, eh? Quan estava super basada i amb el meu fill molt petit i al final vaig dir, me'n vaig allogar a un lloc i ho vaig fer quan després ja tenia cinc anys. Llavors vaig mirar amb calma, amb calma i al final tothom, oh! Vas comprar superbé! Així no tenia cap pressa. No tenia cap pressa i jo deia, mira, això és el que tinc. No, jo era sempre... Al final, mira, ho proves. Clar. No, i a més ara ha vingut la meva mare per ajudar-me i m'està ajudant, doncs ella fa el menjar, fa les rentadores... Llavors jo li puc dedicar més temps al peque. És que quan és tan petit tot està només per això. Clar. A part és un pis bastant gran, que tinc l'habitació per al peque, tinc l'habitació per a mi, l'habitació de la meva mare per a ella. O sigui que és un espai grandet, podem estar bé i de moment estic allà. Fins que trobi un piset, perquè clar, és que em vaig quedar així... O sigui ja teníem fins i tot el pis, jo que soc interiorista tenia ja dibuixada tota la reforma, ho teníem ja tot fet, tenia tots els planos de la reforma del pis i tot. De com quedaria... Estava tot fet. Era ja res, signar i començar l'obra. I ja està. Però la vida de vegades és així, fixat, és que un pal superfort. Sí, sí. A part és que és fort, perquè dius és cert que era el millor moment. Ella havia canviat de feina. Treballava aquí en una botiga de motos, aquí a baix, encantat de la vida. No portava ni un any i l'havien pujat al sou tres cops. Que estaven encantats amb ell. Ella estava super content. Jo a la feina meva porto deu anys i estava molt bé, però encara estava millor. Havíem trobat el piset després d'anys mirant pisos. Havíem trobat el piset. És que estava en el millor moment. I de vegades no saps com te va la vida, que estàs en el millor moment de tots que dius no pot espatllar-ho res. I pam. Ja et passa lo més improbable. Una persona de 33 anys que no té ni antecedents familiars, ni s'ha posat malalta a la vida. Ell era una persona forta en tots els aspectes. Físicament havia sigut campió de karate d'Espanya feia anys. De salut mai s'havia posat malalt. Jo havia estat amb Covid. Ell no l'havia agafat. Tenia unes defenses molt fortes. El que passa que això va ser un arma de doble fil. És tan jove i tan fort les teves cèl·lules et fan mal a tu. Perquè si hagués sigut potser més dèbil hagués sortit abans l'enfermetat i potser l'haguessin agafat a temps o no. Però com era tan fort el cos va anar lluitant, lluitant, lluitant, lluitant i ja quan va donar signes ja estava per tot espai. Les cèl·lules canceroses en còssuls joves són més agressius i es multiplicen molt més ràpid. A vegades hi ha marge ara comencen a fer el tractament perquè es multipliquen a poc a poc. Perquè el seu cos ja no és tan fort, no és tan fèrtil allò que reproduïs. És que va ser super ràpid, però molt. Un dia, un mes abans li va començar a sentar malament el cafè. Un altre dia li feia mal de panxa. Bueno, aquí no li passa això. I ja va ser quan li va començar el mal d'esquena que li va anar a més. Molt ràpid que ja vam dir què passa aquí? Un mal d'esquena que et faci tant de mal? Que raro, que raro, que raro. I començava a tenir febre. La tensió alta, que raro. Això del mal d'esquena no pot ser, això no pot ser. I ja quan vam anar va ser quan ja vam veure tot el que li passava. No, perquè ella estava a Badalona i va anar a Can Ruti. A Can Ruti i allà va ser. Sí, sí. Passa que vam anar... I la preservació en canvi l'hi vam fer a la Puigverd? Sí, això va ser perquè Can Ruti està en tema de reproducció està afiliat Puigverd. De fet, no tinc clar si Puigverd no sé si porta tot a Barcelona. No ho sé. No, no. A Badalona sí, perquè nosaltres estàvem allà a Sant Pau, o sigui, estàvem a Can Ruti i de Can Ruti ens van portar a la Puigverd. No ho sé, perquè com era, clar, és que hi ha gent que paga. Sí, perquè hi ha privades. Hi ha privades, però en pública jo no sé. A nosaltres ens van derivar directament a Puigverd i després per això tot el tema de l'embaràs me l'ha portat Sant Pau. I era perquè t'ho havien fet a Puigverd, no? Clar. Llavors per això... I vas fer-hi a Sant Pau? No. Vaig anar al final de la TEC, no? Bàsicament per tenir habitació... De totes maneres recomano una sanitat pública. Per la privada està bé, però... Sí. No, la veritat és que a Sant Pau molt bé. Molt maques. Totes les noies que em van atendre. No, són molt bons. Molt bons, sí. Perquè en ginecologia... Sí, sí. No, de fet jo li vaig dir a la doctora que em portava de Sant Pau, jo s'ho vaig dir clarament. Dic, si el peque ve perfecte i no li passa res de res de res, que és tot perfecte, segurament em farà la TEC. Però, si passa el mínim, em vaig a Sant Pau. Si hi havia la mínima... I a Sant Pau són els únics diria que són els únics que fan parts vaginals de natges. Sí, ho sé. I van ser els... Sí. I els primers que van fer-ho de deixar el cordó medical més temps perquè passi tota la sang... Sí. Són un equip molt bonic. Són molt bons. I a part molt propens, molt amables, molt macos. Jo he estat molt contenta. No tinc cap tipus de queixa d'ells, ni molt menys. S'han portat superbé, molt contents. Ja he tingut el peque i encara em porten a la psicologia. Em continuen visitant cada setmana i ja ho tenen com rutinari que podrien haver dit oi, no, ja ho has tingut, ja està, s'ha acabat. No, no, han continuat, molt bé. I l'embaràs d'això, ho has tingut tot bé? Perfecte. És que, a part, he tingut un embaràs fantàstic. No he tingut cap dolor. No m'ha sortit ni una estrella. He estat superbé. Superbé. Tot l'embaràs ha estat perfecte. Perfecte, perfecte. La primera insigneria per tenir un embaràs com el que he tingut jo és que ha sigut perfecte. I el part, també. El part va ser molt ràpid. Jo vaig ingressar a les set i a la una i mitja del migdia ja havia tingut el peque. Molt ràpid. I més per ser un primer part. Sí. Molt bé, molt bé, molt bé. La veritat que l'embaràs i el part ha sigut fantàstic. No podria haver sigut millor. Els punts. No podria haver sigut per això. Ja està. Només l'únic, l'única coseta. Ja està. Tampoc li podem demanar aquí... Sí. Vull haver d'entrar aquí per això, no? Capa el que dius. Quan tens el peque saps que vas allà... I quan vas al part tu saps que estaràs allà i que tindràs el part i ja ho saps. Però t'han de tornar un altre cop a quiròfan. I a part, una més cosa. Quan estàs allà a la camilla més així, amb les llums i t'han de punxar allà... Sí, sí, que no és agradable. Ai, és que com... Jo no sé. Però va ser ràpid, això. Va ser ràpid. I la recuperació sí. O sigui, un cop fet, t'has recuperat ràpid. Però clar, antibiòtic i tot et deuen haver donat, o no? No m'han donat antibiòtic, però m'han donat una cosa que em tenia que posar i netejar-te molt bé, i amb el secador... Secar-te amb el secador... I el peque també i tu ahí amb el secador... Ho he de deixar un moment, porfa! Deixa'n'hi que sigui que em sequi amb el secador. És que acabes fent unes coses... Al final... No, no, no, no tens temps. Sí, sí. El que passa és que jo sempre estic pensant aprofitar-ho ara, que ja creixerà. Després creixerà i... Has de disfrutar cada un dels moments, perquè cada un té el seu. Bueno, ara sí, en comptes de dutxar-me cada dia, podem dutxar cada dos. No passa res. Clar, és que hem d'adaptar-nos una mica. Hem d'aprioritzar les coses importants. Hem d'aprioritzar. Sí, sí. No, i a més, clar, està tot el dia a mi. Està tot el dia a mi. Això de dormir a la seva cuna... Ni por estomo. És un mite. No dormen els nens de l'escola. No, dormen, no dormen. Poden dormir. I és que, a part, jo crec que has tirat més estona al pit per estar més estona amb mi. I quan faig així de posar-lo a la cuna, dic, mira, si volem dormir els dos, és igual. Queda't aquí, no passa res. Ni que sigui dormint. I ja està. Però no, i a part és que molt bé, és molt bo. Ara plora una mica més perquè està així, potxitó de la panxa. Però és molt bo. La veritat que ha anat tot molt bé. O sigui, l'embaràs molt bé, la in vitro, que en principi no tenia pinta cap de que sortís a la primera. I això del que va sortir a la primera va ser com... Si no ho és, o sigui, prendre la decisió és molt difícil. Però en la situació en la que estàs, per qualsevol persona és molt difícil un fracàs, o sigui, que no prosperi. Però per tu, imagina't-ho. Ja. Saps què et vull dir? Tu estaves més dèbil. Sí, sí. Estaves tocada per tot arreu. I tens només un any, de cop prens la decisió, que ja és molt difícil prendre la decisió, i si no surt, tens una segona oportunitat. A part, jo vaig entrar, quan vaig entrar al quiròfan, bé, no vam anar al quiròfan, però quan vaig entrar, jo estava amb 49 quilos. O sigui, jo deia, i intentava, i menjava, eh? Menjant. Menjant tots els menjars de tot el dia i no parava de perdre pes. Jo no sabia què passava. Dic, és que és impossible, què m'està passant si estic menjant i no paro de perdre pes però d'una manera brutal. Superràpida, era increïble. No sabia, no sé què li passa al cos quan et passen aquest tipus de coses que és que et quedes en no res. I jo tenia por perquè deia, i si no surt? Sí que és cert que deia, si no surt, no t'enfonsis, ho has intentat. Com a mínim ho has intentat. Llavors, jo, però clar, això és el que et dius. Sí. Si després jo realment ho hagués fet i no hagués sortit, no sé. Clar, tens aquesta esperança, la que agafar-te per així dir-ho, és com un no un salvavides però al final és com una manera que tens de podré tirar cap endavant i tiraré jo cap endavant i faré que ell estigui també cap endavant i estarem molt millor. Si no hagués sortit, bueno, no sé hagués sigut un segon pal. També. Perquè a més no t'ho guardàvem més temps. No hi havia manera. Llavors, bueno, hagués sigut complicat que era una possibilitat que contemplava des del primer moment que podia passar. Però una cosa és contemplar-ho i una altra cosa és que hagués passat. No et sé dir. Perquè jo conforme anava avançant la gent m'ho deia. És que tens millor cara. És que estàs molt millor. Clar, és que jo tampoc, potser no em donava compte. Però clar, havia perdut moltíssim pes. Dormia poc i malament. Anímicament estàs malament. Suposo que la cara i tot es nota. I conforme l'embaràs va anar sortint bé, la gent pel carrer m'ho deia. És que tens molta millor cara. Se't veu molt millor. I ara ja amb el pequei la gent m'ho diu. És que estàs molt maca. Se't veu molt millor. I doncs potser sí. Clar, perquè és que quan estàs així tan tan baix d'ànims i després tens alguna cosa per poder estar una mica millor, doncs jo crec que es nota. A la cara es nota. Òbviament vaig començar a agafar pes. Amb l'embaràs i tot. Però clar, abans menjava i no feia més que perdre. I ara en canvi ja era una altra cosa. Sí, sí. No, no, la veritat és que la millor decisió que he pres. Sí, sí. Estic segura que que no me'n penediré mai. D'això. I ara és que li veig l'agafes i el veus i et fa qualsevol coseta. Res. Que faci pompolles amb la boca o que mogui així els braços i és que se't cau la bava. Ja ho tens allà i dius, és que tot ha valgut la pena. O sea, el tens allà i dius mira, si és que estàs allà i... O sigui que molt bé. La veritat que molt bé. Vale. Què hi ha avui? Molt bé. Tens una dimancha? Sí. Com va ser la tercera? No heu d'haver d'haver d'haver de fer la tercera? No, no. Anem bé, anem bé. Trec el micro? Sí.\""
            ]
          },
          "execution_count": 7,
          "metadata": {},
          "output_type": "execute_result"
        }
      ],
      "source": [
        "transcription[\"text\"]"
      ]
    },
    {
      "cell_type": "markdown",
      "metadata": {},
      "source": [
        "## Audio segments"
      ]
    },
    {
      "cell_type": "code",
      "execution_count": 8,
      "metadata": {},
      "outputs": [
        {
          "name": "stdout",
          "output_type": "stream",
          "text": [
            "  11.80,  14.24, \"I en primer el teu nom i cognoms.\"\n",
            "  14.74,  16.30, \"Doncs jo em dic Sara Montes.\"\n",
            "  17.76,  19.50, \"Tu t'has de posar més cap aquí, Marta.\"\n",
            "  20.10,  20.50, \"Aquí?\"\n",
            "  20.66,  20.96, \"Sí.\"\n",
            "  21.14,  23.46, \"Jo t'aviso... Aquí no m'entres.\"\n",
            "  23.70,  23.90, \"Vale.\"\n",
            "  24.16,  27.66, \"I si tu la mires amb ella, esteu perfectes.\"\n",
            "  28.04,  29.02, \"Sara Montes.\"\n",
            "  29.10,  29.44, \"Sí.\"\n"
          ]
        }
      ],
      "source": [
        "max_segments = 10  # max number of segments to print\n",
        "for segment in transcription[\"segments\"][:max_segments]:\n",
        "    print(f\"{segment['start']:7.2f},{segment['end']:7.2f}, \\\"{segment['text'].strip()}\\\"\")"
      ]
    },
    {
      "cell_type": "markdown",
      "metadata": {},
      "source": [
        "## Audio words"
      ]
    },
    {
      "cell_type": "code",
      "execution_count": 9,
      "metadata": {},
      "outputs": [
        {
          "name": "stdout",
          "output_type": "stream",
          "text": [
            "  11.80,  12.20, \"I\"\n",
            "  12.20,  12.38, \"en\"\n",
            "  12.38,  12.56, \"primer\"\n",
            "  12.56,  12.82, \"el\"\n",
            "  12.82,  12.94, \"teu\"\n",
            "  12.94,  13.16, \"nom\"\n",
            "  13.16,  13.78, \"i\"\n",
            "  13.78,  14.24, \"cognoms.\"\n",
            "  14.74,  15.14, \"Doncs\"\n",
            "  15.14,  15.34, \"jo\"\n",
            "  15.34,  15.46, \"em\"\n",
            "  15.46,  15.56, \"dic\"\n",
            "  15.56,  15.76, \"Sara\"\n",
            "  15.76,  16.30, \"Montes.\"\n",
            "  17.76,  18.16, \"Tu\"\n",
            "  18.16,  18.30, \"t\"\n",
            "  18.30,  18.44, \"'has\"\n",
            "  18.44,  18.46, \"de\"\n",
            "  18.46,  18.74, \"posar\"\n",
            "  18.74,  18.88, \"més\"\n"
          ]
        }
      ],
      "source": [
        "def print_words(max_words: int = 20) -> None:\n",
        "    nwords = 0\n",
        "    for segment in transcription[\"segments\"]:\n",
        "        for word in segment[\"words\"]:\n",
        "            print(f\"{word['start']:7.2f},{word['end']:7.2f}, \\\"{word['word'].strip()}\\\"\")\n",
        "            nwords += 1\n",
        "            if nwords == max_words:\n",
        "                return\n",
        "\n",
        "print_words()"
      ]
    },
    {
      "cell_type": "markdown",
      "metadata": {},
      "source": [
        "## Save subtitles in VTT format"
      ]
    },
    {
      "cell_type": "code",
      "execution_count": 10,
      "metadata": {},
      "outputs": [],
      "source": [
        "output_format = \"vtt\"  # \"txt\", \"vtt\", \"srt\", \"tsv\", \"json\", or \"all\"\n",
        "output_dir = \"\"\n",
        "writer = whisper.utils.get_writer(output_format, output_dir)\n",
        "writer_args = {\"highlight_words\": False, \"max_line_count\": None, \"max_line_width\": None, \"max_words_per_line\": None}\n",
        "writer(transcription, audio_path, **writer_args)"
      ]
    },
    {
      "cell_type": "code",
      "execution_count": 11,
      "metadata": {},
      "outputs": [
        {
          "name": "stdout",
          "output_type": "stream",
          "text": [
            "start,end,word\n",
            "11.799999999999997,12.2,\"I\"\n",
            "12.2,12.38,\"en\"\n",
            "12.38,12.56,\"primer\"\n",
            "12.56,12.82,\"el\"\n",
            "12.82,12.94,\"teu\"\n",
            "12.94,13.16,\"nom\"\n",
            "13.16,13.78,\"i\"\n",
            "13.78,14.24,\"cognoms.\"\n",
            "14.74,15.14,\"Doncs\"\n"
          ]
        }
      ],
      "source": [
        "def save_words(transcription, output_dir, audio_path) -> None:\n",
        "    audio_basename = os.path.basename(audio_path)\n",
        "    audio_basename = os.path.splitext(audio_basename)[0]\n",
        "    output_path = os.path.join(output_dir, audio_basename + \".csv\")\n",
        "    with open(output_path, \"w\") as f:\n",
        "        print(\"start,end,word\", file=f)\n",
        "        for segment in transcription[\"segments\"]:\n",
        "            for word in segment[\"words\"]:\n",
        "                print(f\"{word['start']},{word['end']},\\\"{word['word'].strip()}\\\"\", file=f)\n",
        "\n",
        "    return output_path\n",
        "\n",
        "timestamp_path = save_words(transcription, output_dir, audio_path)\n",
        "!head $timestamp_path"
      ]
    }
  ],
  "metadata": {
    "accelerator": "GPU",
    "colab": {
      "provenance": []
    },
    "gpuClass": "standard",
    "kernelspec": {
      "display_name": "Python 3 (ipykernel)",
      "language": "python",
      "name": "python3"
    },
    "language_info": {
      "codemirror_mode": {
        "name": "ipython",
        "version": 3
      },
      "file_extension": ".py",
      "mimetype": "text/x-python",
      "name": "python",
      "nbconvert_exporter": "python",
      "pygments_lexer": "ipython3",
      "version": "3.10.12"
    },
    "widgets": {
      "application/vnd.jupyter.widget-state+json": {
        "26369a54159f4f46bb7ba89d0c66f6cb": {
          "model_module": "@jupyter-widgets/base",
          "model_module_version": "1.2.0",
          "model_name": "LayoutModel",
          "state": {
            "_model_module": "@jupyter-widgets/base",
            "_model_module_version": "1.2.0",
            "_model_name": "LayoutModel",
            "_view_count": null,
            "_view_module": "@jupyter-widgets/base",
            "_view_module_version": "1.2.0",
            "_view_name": "LayoutView",
            "align_content": null,
            "align_items": null,
            "align_self": null,
            "border": null,
            "bottom": null,
            "display": null,
            "flex": null,
            "flex_flow": null,
            "grid_area": null,
            "grid_auto_columns": null,
            "grid_auto_flow": null,
            "grid_auto_rows": null,
            "grid_column": null,
            "grid_gap": null,
            "grid_row": null,
            "grid_template_areas": null,
            "grid_template_columns": null,
            "grid_template_rows": null,
            "height": null,
            "justify_content": null,
            "justify_items": null,
            "left": null,
            "margin": null,
            "max_height": null,
            "max_width": null,
            "min_height": null,
            "min_width": null,
            "object_fit": null,
            "object_position": null,
            "order": null,
            "overflow": null,
            "overflow_x": null,
            "overflow_y": null,
            "padding": null,
            "right": null,
            "top": null,
            "visibility": null,
            "width": null
          }
        },
        "32bd3d1217f24bb8a5e2f853633098d8": {
          "model_module": "@jupyter-widgets/controls",
          "model_module_version": "1.5.0",
          "model_name": "HTMLModel",
          "state": {
            "_dom_classes": [],
            "_model_module": "@jupyter-widgets/controls",
            "_model_module_version": "1.5.0",
            "_model_name": "HTMLModel",
            "_view_count": null,
            "_view_module": "@jupyter-widgets/controls",
            "_view_module_version": "1.5.0",
            "_view_name": "HTMLView",
            "description": "",
            "description_tooltip": null,
            "layout": "IPY_MODEL_f8eb2f7fc8c1400bb8dc351ea7fa6cfa",
            "placeholder": "​",
            "style": "IPY_MODEL_76677587cf184477bafcc9d5459b5767",
            "value": "100%"
          }
        },
        "50a75e807f144f438032a8fcdb9cdbe0": {
          "model_module": "@jupyter-widgets/base",
          "model_module_version": "1.2.0",
          "model_name": "LayoutModel",
          "state": {
            "_model_module": "@jupyter-widgets/base",
            "_model_module_version": "1.2.0",
            "_model_name": "LayoutModel",
            "_view_count": null,
            "_view_module": "@jupyter-widgets/base",
            "_view_module_version": "1.2.0",
            "_view_name": "LayoutView",
            "align_content": null,
            "align_items": null,
            "align_self": null,
            "border": null,
            "bottom": null,
            "display": null,
            "flex": null,
            "flex_flow": null,
            "grid_area": null,
            "grid_auto_columns": null,
            "grid_auto_flow": null,
            "grid_auto_rows": null,
            "grid_column": null,
            "grid_gap": null,
            "grid_row": null,
            "grid_template_areas": null,
            "grid_template_columns": null,
            "grid_template_rows": null,
            "height": null,
            "justify_content": null,
            "justify_items": null,
            "left": null,
            "margin": null,
            "max_height": null,
            "max_width": null,
            "min_height": null,
            "min_width": null,
            "object_fit": null,
            "object_position": null,
            "order": null,
            "overflow": null,
            "overflow_x": null,
            "overflow_y": null,
            "padding": null,
            "right": null,
            "top": null,
            "visibility": null,
            "width": null
          }
        },
        "73a0e8df4bb940bc8feae14e0a66d9c5": {
          "model_module": "@jupyter-widgets/base",
          "model_module_version": "1.2.0",
          "model_name": "LayoutModel",
          "state": {
            "_model_module": "@jupyter-widgets/base",
            "_model_module_version": "1.2.0",
            "_model_name": "LayoutModel",
            "_view_count": null,
            "_view_module": "@jupyter-widgets/base",
            "_view_module_version": "1.2.0",
            "_view_name": "LayoutView",
            "align_content": null,
            "align_items": null,
            "align_self": null,
            "border": null,
            "bottom": null,
            "display": null,
            "flex": null,
            "flex_flow": null,
            "grid_area": null,
            "grid_auto_columns": null,
            "grid_auto_flow": null,
            "grid_auto_rows": null,
            "grid_column": null,
            "grid_gap": null,
            "grid_row": null,
            "grid_template_areas": null,
            "grid_template_columns": null,
            "grid_template_rows": null,
            "height": null,
            "justify_content": null,
            "justify_items": null,
            "left": null,
            "margin": null,
            "max_height": null,
            "max_width": null,
            "min_height": null,
            "min_width": null,
            "object_fit": null,
            "object_position": null,
            "order": null,
            "overflow": null,
            "overflow_x": null,
            "overflow_y": null,
            "padding": null,
            "right": null,
            "top": null,
            "visibility": null,
            "width": null
          }
        },
        "76677587cf184477bafcc9d5459b5767": {
          "model_module": "@jupyter-widgets/controls",
          "model_module_version": "1.5.0",
          "model_name": "DescriptionStyleModel",
          "state": {
            "_model_module": "@jupyter-widgets/controls",
            "_model_module_version": "1.5.0",
            "_model_name": "DescriptionStyleModel",
            "_view_count": null,
            "_view_module": "@jupyter-widgets/base",
            "_view_module_version": "1.2.0",
            "_view_name": "StyleView",
            "description_width": ""
          }
        },
        "8cdc3b2a910748e98327462922dc008a": {
          "model_module": "@jupyter-widgets/controls",
          "model_module_version": "1.5.0",
          "model_name": "HBoxModel",
          "state": {
            "_dom_classes": [],
            "_model_module": "@jupyter-widgets/controls",
            "_model_module_version": "1.5.0",
            "_model_name": "HBoxModel",
            "_view_count": null,
            "_view_module": "@jupyter-widgets/controls",
            "_view_module_version": "1.5.0",
            "_view_name": "HBoxView",
            "box_style": "",
            "children": [
              "IPY_MODEL_32bd3d1217f24bb8a5e2f853633098d8",
              "IPY_MODEL_dd93a997785a41568a8aba9cf5c0d83a",
              "IPY_MODEL_956741460c504706aa097058dbc6eecf"
            ],
            "layout": "IPY_MODEL_e4024c536d594ea2be54f471eacd485f"
          }
        },
        "956741460c504706aa097058dbc6eecf": {
          "model_module": "@jupyter-widgets/controls",
          "model_module_version": "1.5.0",
          "model_name": "HTMLModel",
          "state": {
            "_dom_classes": [],
            "_model_module": "@jupyter-widgets/controls",
            "_model_module_version": "1.5.0",
            "_model_name": "HTMLModel",
            "_view_count": null,
            "_view_module": "@jupyter-widgets/controls",
            "_view_module_version": "1.5.0",
            "_view_name": "HTMLView",
            "description": "",
            "description_tooltip": null,
            "layout": "IPY_MODEL_73a0e8df4bb940bc8feae14e0a66d9c5",
            "placeholder": "​",
            "style": "IPY_MODEL_ccdbe78adf2f4011946e290c81bd1a51",
            "value": " 39/39 [03:30&lt;00:00,  6.04s/it]"
          }
        },
        "9cf878888ef0434b9cf5883cb29a4d3f": {
          "model_module": "@jupyter-widgets/controls",
          "model_module_version": "1.5.0",
          "model_name": "DropdownModel",
          "state": {
            "_dom_classes": [],
            "_model_module": "@jupyter-widgets/controls",
            "_model_module_version": "1.5.0",
            "_model_name": "DropdownModel",
            "_options_labels": [
              "Select language",
              "----------",
              "Afrikaans (af_za)",
              "Amharic (am_et)",
              "Arabic (ar_eg)",
              "Armenian (hy_am)",
              "Assamese (as_in)",
              "Azerbaijani (az_az)",
              "Belarusian (be_by)",
              "Bengali (bn_in)",
              "Bosnian (bs_ba)",
              "Bulgarian (bg_bg)",
              "Catalan (ca_es)",
              "Chinese (cmn_hans_cn)",
              "Croatian (hr_hr)",
              "Czech (cs_cz)",
              "Danish (da_dk)",
              "Dutch (nl_nl)",
              "English (en_us)",
              "Estonian (et_ee)",
              "Finnish (fi_fi)",
              "French (fr_fr)",
              "Galician (gl_es)",
              "Georgian (ka_ge)",
              "German (de_de)",
              "Greek (el_gr)",
              "Gujarati (gu_in)",
              "Hausa (ha_ng)",
              "Hebrew (he_il)",
              "Hindi (hi_in)",
              "Hungarian (hu_hu)",
              "Icelandic (is_is)",
              "Indonesian (id_id)",
              "Italian (it_it)",
              "Japanese (ja_jp)",
              "Javanese (jv_id)",
              "Kannada (kn_in)",
              "Kazakh (kk_kz)",
              "Khmer (km_kh)",
              "Korean (ko_kr)",
              "Lao (lo_la)",
              "Latvian (lv_lv)",
              "Lingala (ln_cd)",
              "Lithuanian (lt_lt)",
              "Luxembourgish (lb_lu)",
              "Macedonian (mk_mk)",
              "Malay (ms_my)",
              "Malayalam (ml_in)",
              "Maltese (mt_mt)",
              "Maori (mi_nz)",
              "Marathi (mr_in)",
              "Mongolian (mn_mn)",
              "Myanmar (my_mm)",
              "Nepali (ne_np)",
              "Norwegian (nb_no)",
              "Occitan (oc_fr)",
              "Pashto (ps_af)",
              "Persian (fa_ir)",
              "Polish (pl_pl)",
              "Portuguese (pt_br)",
              "Punjabi (pa_in)",
              "Romanian (ro_ro)",
              "Russian (ru_ru)",
              "Serbian (sr_rs)",
              "Shona (sn_zw)",
              "Sindhi (sd_in)",
              "Slovak (sk_sk)",
              "Slovenian (sl_si)",
              "Somali (so_so)",
              "Spanish (es_419)",
              "Swahili (sw_ke)",
              "Swedish (sv_se)",
              "Tagalog (fil_ph)",
              "Tajik (tg_tj)",
              "Tamil (ta_in)",
              "Telugu (te_in)",
              "Thai (th_th)",
              "Turkish (tr_tr)",
              "Ukrainian (uk_ua)",
              "Urdu (ur_pk)",
              "Uzbek (uz_uz)",
              "Vietnamese (vi_vn)",
              "Welsh (cy_gb)",
              "Yoruba (yo_ng)"
            ],
            "_view_count": null,
            "_view_module": "@jupyter-widgets/controls",
            "_view_module_version": "1.5.0",
            "_view_name": "DropdownView",
            "description": "Language:",
            "description_tooltip": null,
            "disabled": false,
            "index": 39,
            "layout": "IPY_MODEL_26369a54159f4f46bb7ba89d0c66f6cb",
            "style": "IPY_MODEL_c78c2f0f2945498a93257ce00a5ee9a7"
          }
        },
        "c78c2f0f2945498a93257ce00a5ee9a7": {
          "model_module": "@jupyter-widgets/controls",
          "model_module_version": "1.5.0",
          "model_name": "DescriptionStyleModel",
          "state": {
            "_model_module": "@jupyter-widgets/controls",
            "_model_module_version": "1.5.0",
            "_model_name": "DescriptionStyleModel",
            "_view_count": null,
            "_view_module": "@jupyter-widgets/base",
            "_view_module_version": "1.2.0",
            "_view_name": "StyleView",
            "description_width": ""
          }
        },
        "ccdbe78adf2f4011946e290c81bd1a51": {
          "model_module": "@jupyter-widgets/controls",
          "model_module_version": "1.5.0",
          "model_name": "DescriptionStyleModel",
          "state": {
            "_model_module": "@jupyter-widgets/controls",
            "_model_module_version": "1.5.0",
            "_model_name": "DescriptionStyleModel",
            "_view_count": null,
            "_view_module": "@jupyter-widgets/base",
            "_view_module_version": "1.2.0",
            "_view_name": "StyleView",
            "description_width": ""
          }
        },
        "dafffcc9b35c4bca95f19079d7c8be60": {
          "model_module": "@jupyter-widgets/controls",
          "model_module_version": "1.5.0",
          "model_name": "ProgressStyleModel",
          "state": {
            "_model_module": "@jupyter-widgets/controls",
            "_model_module_version": "1.5.0",
            "_model_name": "ProgressStyleModel",
            "_view_count": null,
            "_view_module": "@jupyter-widgets/base",
            "_view_module_version": "1.2.0",
            "_view_name": "StyleView",
            "bar_color": null,
            "description_width": ""
          }
        },
        "dd93a997785a41568a8aba9cf5c0d83a": {
          "model_module": "@jupyter-widgets/controls",
          "model_module_version": "1.5.0",
          "model_name": "FloatProgressModel",
          "state": {
            "_dom_classes": [],
            "_model_module": "@jupyter-widgets/controls",
            "_model_module_version": "1.5.0",
            "_model_name": "FloatProgressModel",
            "_view_count": null,
            "_view_module": "@jupyter-widgets/controls",
            "_view_module_version": "1.5.0",
            "_view_name": "ProgressView",
            "bar_style": "success",
            "description": "",
            "description_tooltip": null,
            "layout": "IPY_MODEL_50a75e807f144f438032a8fcdb9cdbe0",
            "max": 39,
            "min": 0,
            "orientation": "horizontal",
            "style": "IPY_MODEL_dafffcc9b35c4bca95f19079d7c8be60",
            "value": 39
          }
        },
        "e4024c536d594ea2be54f471eacd485f": {
          "model_module": "@jupyter-widgets/base",
          "model_module_version": "1.2.0",
          "model_name": "LayoutModel",
          "state": {
            "_model_module": "@jupyter-widgets/base",
            "_model_module_version": "1.2.0",
            "_model_name": "LayoutModel",
            "_view_count": null,
            "_view_module": "@jupyter-widgets/base",
            "_view_module_version": "1.2.0",
            "_view_name": "LayoutView",
            "align_content": null,
            "align_items": null,
            "align_self": null,
            "border": null,
            "bottom": null,
            "display": null,
            "flex": null,
            "flex_flow": null,
            "grid_area": null,
            "grid_auto_columns": null,
            "grid_auto_flow": null,
            "grid_auto_rows": null,
            "grid_column": null,
            "grid_gap": null,
            "grid_row": null,
            "grid_template_areas": null,
            "grid_template_columns": null,
            "grid_template_rows": null,
            "height": null,
            "justify_content": null,
            "justify_items": null,
            "left": null,
            "margin": null,
            "max_height": null,
            "max_width": null,
            "min_height": null,
            "min_width": null,
            "object_fit": null,
            "object_position": null,
            "order": null,
            "overflow": null,
            "overflow_x": null,
            "overflow_y": null,
            "padding": null,
            "right": null,
            "top": null,
            "visibility": null,
            "width": null
          }
        },
        "f8eb2f7fc8c1400bb8dc351ea7fa6cfa": {
          "model_module": "@jupyter-widgets/base",
          "model_module_version": "1.2.0",
          "model_name": "LayoutModel",
          "state": {
            "_model_module": "@jupyter-widgets/base",
            "_model_module_version": "1.2.0",
            "_model_name": "LayoutModel",
            "_view_count": null,
            "_view_module": "@jupyter-widgets/base",
            "_view_module_version": "1.2.0",
            "_view_name": "LayoutView",
            "align_content": null,
            "align_items": null,
            "align_self": null,
            "border": null,
            "bottom": null,
            "display": null,
            "flex": null,
            "flex_flow": null,
            "grid_area": null,
            "grid_auto_columns": null,
            "grid_auto_flow": null,
            "grid_auto_rows": null,
            "grid_column": null,
            "grid_gap": null,
            "grid_row": null,
            "grid_template_areas": null,
            "grid_template_columns": null,
            "grid_template_rows": null,
            "height": null,
            "justify_content": null,
            "justify_items": null,
            "left": null,
            "margin": null,
            "max_height": null,
            "max_width": null,
            "min_height": null,
            "min_width": null,
            "object_fit": null,
            "object_position": null,
            "order": null,
            "overflow": null,
            "overflow_x": null,
            "overflow_y": null,
            "padding": null,
            "right": null,
            "top": null,
            "visibility": null,
            "width": null
          }
        }
      }
    }
  },
  "nbformat": 4,
  "nbformat_minor": 0
}
