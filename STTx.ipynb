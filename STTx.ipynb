{
 "cells": [
  {
   "cell_type": "markdown",
   "metadata": {
    "id": "v5hvo8QWN-a9"
   },
   "source": [
    "# Installing WhisperX\n",
    "\n",
    "The command below will install the Python packages needed to use WhisperX Speech To Text (STT) package"
   ]
  },
  {
   "cell_type": "code",
   "execution_count": 1,
   "metadata": {
    "id": "ZsJUxc0aRsAf"
   },
   "outputs": [],
   "source": [
    "# ! pip install git+https://github.com/m-bain/whisperx.git"
   ]
  },
  {
   "cell_type": "code",
   "execution_count": 2,
   "metadata": {
    "id": "3CqtR2Fi5-vP"
   },
   "outputs": [],
   "source": [
    "import os\n",
    "import torch\n",
    "import whisperx"
   ]
  },
  {
   "cell_type": "code",
   "execution_count": 3,
   "metadata": {},
   "outputs": [
    {
     "name": "stdout",
     "output_type": "stream",
     "text": [
      "Using device: cuda\n"
     ]
    }
   ],
   "source": [
    "device = \"cuda\" if torch.cuda.is_available() else \"cpu\"\n",
    "print(f\"Using device: {device}\")"
   ]
  },
  {
   "cell_type": "markdown",
   "metadata": {
    "id": "0ljocCNuUAde"
   },
   "source": [
    "## Transcribe\n",
    "\n",
    "The following will take a few minutes to transcribe."
   ]
  },
  {
   "cell_type": "code",
   "execution_count": 4,
   "metadata": {
    "colab": {
     "base_uri": "https://localhost:8080/"
    },
    "id": "_PokfNJtOYNu",
    "outputId": "5ace74d4-ff20-4830-fe78-958881ec3905"
   },
   "outputs": [],
   "source": [
    "language = \"ca\"\n",
    "model_size = \"large-v3\"  # \"large-v3\" recommended for production\n",
    "batch_size = 16          # reduce if low on GPU mem\n",
    "compute_type = \"float16\" # change to \"int8\" if low on GPU mem (may reduce accuracy)"
   ]
  },
  {
   "cell_type": "code",
   "execution_count": 5,
   "metadata": {},
   "outputs": [
    {
     "name": "stderr",
     "output_type": "stream",
     "text": [
      "Lightning automatically upgraded your loaded checkpoint from v1.5.4 to v2.2.0.post0. To apply the upgrade to your files permanently, run `python -m pytorch_lightning.utilities.upgrade_checkpoint ../../../../veu5/jadrian/.cache/torch/whisperx-vad-segmentation.bin`\n"
     ]
    },
    {
     "name": "stdout",
     "output_type": "stream",
     "text": [
      "Model was trained with pyannote.audio 0.0.1, yours is 3.1.1. Bad things might happen unless you revert pyannote.audio to 0.x.\n",
      "Model was trained with torch 1.10.0+cu102, yours is 2.0.0+cu118. Bad things might happen unless you revert torch to 1.x.\n"
     ]
    }
   ],
   "source": [
    "model = whisperx.load_model(model_size, device, language=language, compute_type=compute_type)"
   ]
  },
  {
   "cell_type": "code",
   "execution_count": 6,
   "metadata": {
    "colab": {
     "base_uri": "https://localhost:8080/",
     "height": 49,
     "referenced_widgets": [
      "8cdc3b2a910748e98327462922dc008a",
      "32bd3d1217f24bb8a5e2f853633098d8",
      "dd93a997785a41568a8aba9cf5c0d83a",
      "956741460c504706aa097058dbc6eecf",
      "e4024c536d594ea2be54f471eacd485f",
      "f8eb2f7fc8c1400bb8dc351ea7fa6cfa",
      "76677587cf184477bafcc9d5459b5767",
      "50a75e807f144f438032a8fcdb9cdbe0",
      "dafffcc9b35c4bca95f19079d7c8be60",
      "73a0e8df4bb940bc8feae14e0a66d9c5",
      "ccdbe78adf2f4011946e290c81bd1a51"
     ]
    },
    "id": "7OWTn_KvNk59",
    "outputId": "7fc0731d-fba1-42da-8145-387d280f4bb1"
   },
   "outputs": [],
   "source": [
    "# audio_path = \"../ccma/data/6255130.mp4\"\n",
    "audio_path = \"../ccma/data2/original_3.mp4\"\n",
    "audio = whisperx.load_audio(audio_path)\n",
    "result = model.transcribe(audio, batch_size=batch_size, language=language)"
   ]
  },
  {
   "cell_type": "markdown",
   "metadata": {},
   "source": [
    "## Audio segments (before alignment)"
   ]
  },
  {
   "cell_type": "code",
   "execution_count": 19,
   "metadata": {},
   "outputs": [
    {
     "name": "stdout",
     "output_type": "stream",
     "text": [
      "  11.15,  15.47, \"Jo em dic Sara Montes.\"\n",
      "  15.49,  26.64, \"Tu t'has de posar més cap aquí, Marta.\"\n",
      "  26.66,  27.40, \"Aquí?\"\n",
      "  27.46,  27.60, \"Sí.\"\n",
      "  27.62,  31.18, \"Jo t'aviso... Aquí no m'entres.\"\n",
      "  31.20,  33.00, \"I si tu la mires amb ella, esteu perfectes.\"\n",
      "  33.02,  33.28, \"Sara Montes.\"\n",
      "  33.30,  33.34, \"Sí.\"\n",
      "  33.36,  39.14, \"A veure, nosaltres, una parella normal i corrent, un dia li va començar a fer mal l'esquena...\"\n",
      "  41.70,  44.88, \"Ja està.\"\n",
      "  44.90,  45.20, \"Perdona, eh?\"\n",
      "  45.24,  45.58, \"Ah, no, no, digue'm.\"\n",
      "  45.60,  47.68, \"Jo no sé, o sigui, començo una mica com al principi o no?\"\n",
      "  47.72,  53.84, \"És que no sé... Sí, sí, sí, jo et demà preguntava, una mica, perquè estem aquí, què va passar.\"\n",
      "  53.90,  66.59, \"Doncs nosaltres, a veure, portàvem vuit anys junts, volíem tenir fills, justament acabàvem de donar fins i tot les arres per al pis que ens havien de comprar, i un dia li va començar a fer mal l'esquena.\"\n",
      "3363.33,3365.52, \"Clar, perquè és que quan estàs així tan...\"\n",
      "3366.78,3374.83, \"tan baix d'ànims i després tens alguna cosa per poder estar una mica millor, jo crec que es nota a la cara.\"\n",
      "3374.93,3387.93, \"Òbviament vaig començar a agafar pes, amb l'embaràs i tot, però clar, abans menjava i no feia més que perdre i ara en canvi ja era una altra cosa.\"\n",
      "3389.51,3390.38, \"Sí, sí.\"\n",
      "3390.39,3393.42, \"No, no, la veritat és que la millor decisió que he pres.\"\n",
      "3393.48,3394.20, \"Sí, sí.\"\n",
      "3394.28,3398.92, \"Estic segura que no me'n penediré mai d'això.\"\n",
      "3398.96,3405.03, \"I ara és que li veig l'agafes i el veus i et fa qualsevol coseta, res.\"\n",
      "3405.81,3411.13, \"Que faci pompolles amb la boca o que mogui així els braços i és que se't cau la bava.\"\n",
      "3411.17,3414.59, \"Ja ho tens allà i dius, és que tot ha valgut la pena.\"\n",
      "3414.70,3421.02, \"El tens allà i dius, mira, si és que estàs allà i... O sigui que molt bé.\"\n",
      "3421.06,3421.90, \"La veritat que molt bé.\"\n",
      "3422.66,3428.08, \"Molt bé.\"\n",
      "3428.12,3428.16, \"Sí.\"\n",
      "3435.84,3438.86, \"T'agrada el micro?\"\n"
     ]
    }
   ],
   "source": [
    "max_segments = 30  # max number of segments to print\n",
    "for segment in (result[\"segments\"][:max_segments//2] + result[\"segments\"][-max_segments//2:]):\n",
    "    print(f\"{segment['start']:7.2f},{segment['end']:7.2f}, \\\"{segment['text'].strip()}\\\"\")"
   ]
  },
  {
   "cell_type": "markdown",
   "metadata": {},
   "source": [
    "## 2. Align transcription"
   ]
  },
  {
   "cell_type": "code",
   "execution_count": 8,
   "metadata": {},
   "outputs": [],
   "source": [
    "align_language = result[\"language\"]\n",
    "model_a, metadata = whisperx.load_align_model(language_code=align_language, device=device)\n",
    "result = whisperx.align(result[\"segments\"], model_a, metadata, audio, device, return_char_alignments=False)\n",
    "result[\"language\"] = align_language"
   ]
  },
  {
   "cell_type": "markdown",
   "metadata": {},
   "source": [
    "## Audio segments (after alignment)"
   ]
  },
  {
   "cell_type": "code",
   "execution_count": 16,
   "metadata": {},
   "outputs": [
    {
     "name": "stdout",
     "output_type": "stream",
     "text": [
      "  11.15,  15.47, \"Jo em dic Sara Montes.\"\n",
      "  15.49,  26.64, \"Tu t'has de posar més cap aquí, Marta.\"\n",
      "  26.66,  27.40, \"Aquí?\"\n",
      "  27.46,  27.60, \"Sí.\"\n",
      "  27.62,  31.18, \"Jo t'aviso... Aquí no m'entres.\"\n",
      "  31.20,  33.00, \"I si tu la mires amb ella, esteu perfectes.\"\n",
      "  33.02,  33.28, \"Sara Montes.\"\n",
      "  33.30,  33.34, \"Sí.\"\n",
      "  33.36,  39.14, \"A veure, nosaltres, una parella normal i corrent, un dia li va començar a fer mal l'esquena...\"\n",
      "  41.70,  44.88, \"Ja està.\"\n",
      "  44.90,  45.20, \"Perdona, eh?\"\n",
      "  45.24,  45.58, \"Ah, no, no, digue'm.\"\n",
      "  45.60,  47.68, \"Jo no sé, o sigui, començo una mica com al principi o no?\"\n",
      "  47.72,  53.84, \"És que no sé... Sí, sí, sí, jo et demà preguntava, una mica, perquè estem aquí, què va passar.\"\n",
      "  53.90,  66.59, \"Doncs nosaltres, a veure, portàvem vuit anys junts, volíem tenir fills, justament acabàvem de donar fins i tot les arres per al pis que ens havien de comprar, i un dia li va començar a fer mal l'esquena.\"\n",
      "3363.33,3365.52, \"Clar, perquè és que quan estàs així tan...\"\n",
      "3366.78,3374.83, \"tan baix d'ànims i després tens alguna cosa per poder estar una mica millor, jo crec que es nota a la cara.\"\n",
      "3374.93,3387.93, \"Òbviament vaig començar a agafar pes, amb l'embaràs i tot, però clar, abans menjava i no feia més que perdre i ara en canvi ja era una altra cosa.\"\n",
      "3389.51,3390.38, \"Sí, sí.\"\n",
      "3390.39,3393.42, \"No, no, la veritat és que la millor decisió que he pres.\"\n",
      "3393.48,3394.20, \"Sí, sí.\"\n",
      "3394.28,3398.92, \"Estic segura que no me'n penediré mai d'això.\"\n",
      "3398.96,3405.03, \"I ara és que li veig l'agafes i el veus i et fa qualsevol coseta, res.\"\n",
      "3405.81,3411.13, \"Que faci pompolles amb la boca o que mogui així els braços i és que se't cau la bava.\"\n",
      "3411.17,3414.59, \"Ja ho tens allà i dius, és que tot ha valgut la pena.\"\n",
      "3414.70,3421.02, \"El tens allà i dius, mira, si és que estàs allà i... O sigui que molt bé.\"\n",
      "3421.06,3421.90, \"La veritat que molt bé.\"\n",
      "3422.66,3428.08, \"Molt bé.\"\n",
      "3428.12,3428.16, \"Sí.\"\n",
      "3435.84,3438.86, \"T'agrada el micro?\"\n"
     ]
    }
   ],
   "source": [
    "max_segments = 30  # max number of segments to print\n",
    "for segment in (result[\"segments\"][:max_segments//2] + result[\"segments\"][-max_segments//2:]):\n",
    "    print(f\"{segment['start']:7.2f},{segment['end']:7.2f}, \\\"{segment['text'].strip()}\\\"\")"
   ]
  },
  {
   "cell_type": "markdown",
   "metadata": {},
   "source": [
    "## 3. Assign speaker labels"
   ]
  },
  {
   "cell_type": "code",
   "execution_count": 10,
   "metadata": {},
   "outputs": [],
   "source": [
    "diarize_model = whisperx.DiarizationPipeline(device=device)\n",
    "\n",
    "# add min/max number of speakers if known\n",
    "# diarize_segments = diarize_model(audio, min_speakers=1, max_speakers=3)\n",
    "diarize_segments = diarize_model(audio)\n",
    "\n",
    "result = whisperx.assign_word_speakers(diarize_segments, result)"
   ]
  },
  {
   "cell_type": "code",
   "execution_count": 18,
   "metadata": {},
   "outputs": [
    {
     "name": "stdout",
     "output_type": "stream",
     "text": [
      "SPEAKER_04,   11.15,  15.47, \"Jo em dic Sara Montes.\"\n",
      "SPEAKER_00,   15.49,  26.64, \"Tu t'has de posar més cap aquí, Marta.\"\n",
      "SPEAKER_00,   26.66,  27.40, \"Aquí?\"\n",
      "SPEAKER_00,   27.46,  27.60, \"Sí.\"\n",
      "SPEAKER_00,   27.62,  31.18, \"Jo t'aviso... Aquí no m'entres.\"\n",
      "SPEAKER_06,   31.20,  33.00, \"I si tu la mires amb ella, esteu perfectes.\"\n",
      "SPEAKER_06,   33.02,  33.28, \"Sara Montes.\"\n",
      "SPEAKER_06,   33.30,  33.34, \"Sí.\"\n",
      "SPEAKER_06,   33.36,  39.14, \"A veure, nosaltres, una parella normal i corrent, un dia li va començar a fer mal l'esquena...\"\n",
      "SPEAKER_06,   41.70,  44.88, \"Ja està.\"\n",
      "SPEAKER_06,   44.90,  45.20, \"Perdona, eh?\"\n",
      "SPEAKER_06,   45.24,  45.58, \"Ah, no, no, digue'm.\"\n",
      "SPEAKER_06,   45.60,  47.68, \"Jo no sé, o sigui, començo una mica com al principi o no?\"\n",
      "SPEAKER_04,   47.72,  53.84, \"És que no sé... Sí, sí, sí, jo et demà preguntava, una mica, perquè estem aquí, què va passar.\"\n",
      "SPEAKER_06,   53.90,  66.59, \"Doncs nosaltres, a veure, portàvem vuit anys junts, volíem tenir fills, justament acabàvem de donar fins i tot les arres per al pis que ens havien de comprar, i un dia li va començar a fer mal l'esquena.\"\n",
      "SPEAKER_06,   66.63,  70.43, \"En principi, una cosa normal i corrent, com li pot passar a qualsevol persona,\"\n",
      "SPEAKER_06,   71.17,  76.41, \"però va anar a més, a més, a més, a més, cada dia li feia més mal, fins que un dia vam anar\"\n",
      "SPEAKER_06,   77.26,  83.26, \"a l'hospital perquè ens diguessin una mica, oi, què passa, que és una lumbàlgia o què és?\"\n",
      "SPEAKER_06,   83.32,  98.71, \"I ja ha arribat aquest moment, quan li van fer proves en el mateix moment, ja ens van dir que el que tenia era un càncer, era càncer de còlon, i el dolor que tenia era el reflex de la malaltia.\"\n",
      "SPEAKER_06,   98.77,  99.25, \"Què passa?\"\n",
      "SPEAKER_06,   99.31, 104.47, \"Que ell era una persona com molt forta, tenia 33 anys, i no s'havia posat malalt a la seva vida.\"\n",
      "SPEAKER_06,  105.09, 114.82, \"Llavors el cos era com molt fort i quan ja va donar signes de la malaltia ja ho tenia molt extens.\"\n",
      "SPEAKER_06,  114.88, 125.80, \"Ja tenia el càncer de còlon, tenia filtració a la medula òssea i tenia una metàstasi al peritoneu, que és aquesta part d'aquí, que era com una cosa molt complicada.\"\n",
      "SPEAKER_06,  125.82, 127.80, \"Tot això era un quadre molt difícil.\"\n",
      "SPEAKER_06,  128.42, 134.13, \"Nosaltres, clar, no som metges, no ho sabíem, quina era la gravetat real.\"\n",
      "SPEAKER_06,  134.21, 151.12, \"Sí que és cert que des del primer dia van ingressar a l'hospital, va estar ja ingressat des del primer moment, però nosaltres sempre teníem com l'esperança una mica que la medicina està molt avançada, segur que trobaran alguna cosa, ets molt jove, molt fort, tu tranquil, que tot anirà bé...\"\n",
      "SPEAKER_06,  151.94, 160.51, \"Però és cert que els metges, amb el quadre que tenia, ja no tenien massa esperances, el que nosaltres això no ho sabíem.\"\n",
      "SPEAKER_06,  160.55, 171.30, \"Com volíem ser pares, abans que comencés amb la químio, jo li vaig preguntar als metges, oi, aquesta químio deixa estèril a la gent perquè era una químio molt forta?\"\n",
      "SPEAKER_06,  171.36, 172.06, \"I em van dir sí.\"\n",
      "SPEAKER_06,  172.74, 187.99, \"Llavors ho vam comentar entre els dos i vam dir, oi, si és així, anem, fem una reserva d'esperma i encara que facin la quimio no passa res, quan ja estiguis tu millor, doncs mira, si volem ser pares, ja ho tenim allà i podem i no passa res.\"\n"
     ]
    }
   ],
   "source": [
    "# segments are now assigned speaker IDs\n",
    "max_segments = 30  # max number of segments to print\n",
    "for segment in result[\"segments\"][:max_segments]:\n",
    "    print(f\"{segment['speaker']}, {segment['start']:7.2f},{segment['end']:7.2f}, \\\"{segment['text'].strip()}\\\"\")"
   ]
  },
  {
   "cell_type": "markdown",
   "metadata": {},
   "source": [
    "## Audio words"
   ]
  },
  {
   "cell_type": "code",
   "execution_count": 12,
   "metadata": {},
   "outputs": [
    {
     "name": "stdout",
     "output_type": "stream",
     "text": [
      "  11.15,  12.59, \"Jo\"\n",
      "  14.33,  15.13, \"em\"\n",
      "  15.15,  15.23, \"dic\"\n",
      "  15.25,  15.33, \"Sara\"\n",
      "  15.35,  15.47, \"Montes.\"\n",
      "  15.49,  15.59, \"Tu\"\n",
      "  15.61,  15.81, \"t'has\"\n",
      "  15.83,  15.91, \"de\"\n",
      "  15.93,  23.00, \"posar\"\n",
      "  23.14,  23.72, \"més\"\n",
      "  23.74,  24.96, \"cap\"\n",
      "  24.98,  26.10, \"aquí,\"\n",
      "  26.30,  26.64, \"Marta.\"\n",
      "  26.66,  27.40, \"Aquí?\"\n",
      "  27.46,  27.60, \"Sí.\"\n",
      "  27.62,  27.70, \"Jo\"\n",
      "  27.76,  30.62, \"t'aviso...\"\n",
      "  30.64,  30.90, \"Aquí\"\n",
      "  30.92,  30.96, \"no\"\n",
      "  30.98,  31.18, \"m'entres.\"\n"
     ]
    }
   ],
   "source": [
    "def print_words(max_words: int = 20) -> None:\n",
    "    nwords = 0\n",
    "    for segment in result[\"segments\"]:\n",
    "        for word in segment[\"words\"]:\n",
    "            print(f\"{word['start']:7.2f},{word['end']:7.2f}, \\\"{word['word'].strip()}\\\"\")\n",
    "            nwords += 1\n",
    "            if nwords == max_words:\n",
    "                return\n",
    "\n",
    "print_words()"
   ]
  },
  {
   "cell_type": "markdown",
   "metadata": {},
   "source": [
    "## Save subtitles in VTT format"
   ]
  },
  {
   "cell_type": "code",
   "execution_count": 13,
   "metadata": {},
   "outputs": [],
   "source": [
    "output_format = \"vtt\"  # \"txt\", \"vtt\", \"srt\", \"tsv\", \"json\", or \"all\"\n",
    "output_dir = \"\"\n",
    "writer = whisperx.utils.get_writer(output_format, output_dir)\n",
    "writer_args = {\"highlight_words\": False, \"max_line_count\": None, \"max_line_width\": None}\n",
    "result[\"language\"] = align_language\n",
    "writer(result, audio_path, writer_args)"
   ]
  },
  {
   "cell_type": "code",
   "execution_count": 14,
   "metadata": {},
   "outputs": [
    {
     "name": "stdout",
     "output_type": "stream",
     "text": [
      "101.472,101.472,\"33\"\n",
      "437.57,437.57,\"5\"\n",
      "445.417,445.417,\"3\"\n",
      "930.769,930.769,\"40\"\n",
      "931.169,931.169,\"50\"\n",
      "1160.968,1160.968,\"13\"\n",
      "1409.01,1409.01,\"100%\"\n",
      "1647.098,1647.098,\"45\"\n",
      "2231.826,2231.826,\"4\"\n",
      "2241.311,2241.311,\"8\"\n",
      "2241.651,2241.651,\"4\"\n",
      "2243.212,2243.212,\"4\"\n",
      "2289.087,2289.087,\"7\"\n",
      "2291.888,2291.888,\"6\"\n",
      "2315.719,2315.719,\"62,\"\n",
      "2315.719,2315.719,\"63,\"\n",
      "2329.844,2329.844,\"7\"\n",
      "2557.433,2557.433,\"5\"\n",
      "2675.307,2675.307,\"33\"\n",
      "2998.765,2998.765,\"7\"\n",
      "3225.14,3225.14,\"49\"\n",
      "start,end,word\n",
      "11.152,12.593,\"Jo\"\n",
      "14.333,15.134,\"em\"\n",
      "15.154,15.234,\"dic\"\n",
      "15.254,15.334,\"Sara\"\n",
      "15.354,15.474,\"Montes.\"\n",
      "15.494,15.594,\"Tu\"\n",
      "15.614,15.814,\"t'has\"\n",
      "15.834,15.914,\"de\"\n",
      "15.934,22.997,\"posar\"\n"
     ]
    }
   ],
   "source": [
    "def save_words(result, output_dir, audio_path) -> None:\n",
    "    audio_basename = os.path.basename(audio_path)\n",
    "    audio_basename = os.path.splitext(audio_basename)[0]\n",
    "    output_path = os.path.join(output_dir, audio_basename + \".csv\")\n",
    "    with open(output_path, \"w\") as f:\n",
    "        print(\"start,end,word\", file=f)\n",
    "        prev_end = 0\n",
    "        for segment in result[\"segments\"]:\n",
    "            for word in segment[\"words\"]:\n",
    "                if 'start' in word:\n",
    "                    print(f\"{word['start']},{word['end']},\\\"{word['word'].strip()}\\\"\", file=f)\n",
    "                    prev_end = word['end']\n",
    "                else:\n",
    "                    print(f\"{prev_end},{prev_end},\\\"{word['word'].strip()}\\\"\")\n",
    "                    print(f\"{prev_end},{prev_end},\\\"{word['word'].strip()}\\\"\", file=f)\n",
    "\n",
    "    return output_path\n",
    "\n",
    "timestamp_path = save_words(result, output_dir, audio_path)\n",
    "!head $timestamp_path"
   ]
  }
 ],
 "metadata": {
  "accelerator": "GPU",
  "colab": {
   "provenance": []
  },
  "gpuClass": "standard",
  "kernelspec": {
   "display_name": "Python 3 (ipykernel)",
   "language": "python",
   "name": "python3"
  },
  "language_info": {
   "codemirror_mode": {
    "name": "ipython",
    "version": 3
   },
   "file_extension": ".py",
   "mimetype": "text/x-python",
   "name": "python",
   "nbconvert_exporter": "python",
   "pygments_lexer": "ipython3",
   "version": "3.10.12"
  },
  "widgets": {
   "application/vnd.jupyter.widget-state+json": {
    "26369a54159f4f46bb7ba89d0c66f6cb": {
     "model_module": "@jupyter-widgets/base",
     "model_module_version": "1.2.0",
     "model_name": "LayoutModel",
     "state": {
      "_model_module": "@jupyter-widgets/base",
      "_model_module_version": "1.2.0",
      "_model_name": "LayoutModel",
      "_view_count": null,
      "_view_module": "@jupyter-widgets/base",
      "_view_module_version": "1.2.0",
      "_view_name": "LayoutView",
      "align_content": null,
      "align_items": null,
      "align_self": null,
      "border": null,
      "bottom": null,
      "display": null,
      "flex": null,
      "flex_flow": null,
      "grid_area": null,
      "grid_auto_columns": null,
      "grid_auto_flow": null,
      "grid_auto_rows": null,
      "grid_column": null,
      "grid_gap": null,
      "grid_row": null,
      "grid_template_areas": null,
      "grid_template_columns": null,
      "grid_template_rows": null,
      "height": null,
      "justify_content": null,
      "justify_items": null,
      "left": null,
      "margin": null,
      "max_height": null,
      "max_width": null,
      "min_height": null,
      "min_width": null,
      "object_fit": null,
      "object_position": null,
      "order": null,
      "overflow": null,
      "overflow_x": null,
      "overflow_y": null,
      "padding": null,
      "right": null,
      "top": null,
      "visibility": null,
      "width": null
     }
    },
    "32bd3d1217f24bb8a5e2f853633098d8": {
     "model_module": "@jupyter-widgets/controls",
     "model_module_version": "1.5.0",
     "model_name": "HTMLModel",
     "state": {
      "_dom_classes": [],
      "_model_module": "@jupyter-widgets/controls",
      "_model_module_version": "1.5.0",
      "_model_name": "HTMLModel",
      "_view_count": null,
      "_view_module": "@jupyter-widgets/controls",
      "_view_module_version": "1.5.0",
      "_view_name": "HTMLView",
      "description": "",
      "description_tooltip": null,
      "layout": "IPY_MODEL_f8eb2f7fc8c1400bb8dc351ea7fa6cfa",
      "placeholder": "​",
      "style": "IPY_MODEL_76677587cf184477bafcc9d5459b5767",
      "value": "100%"
     }
    },
    "50a75e807f144f438032a8fcdb9cdbe0": {
     "model_module": "@jupyter-widgets/base",
     "model_module_version": "1.2.0",
     "model_name": "LayoutModel",
     "state": {
      "_model_module": "@jupyter-widgets/base",
      "_model_module_version": "1.2.0",
      "_model_name": "LayoutModel",
      "_view_count": null,
      "_view_module": "@jupyter-widgets/base",
      "_view_module_version": "1.2.0",
      "_view_name": "LayoutView",
      "align_content": null,
      "align_items": null,
      "align_self": null,
      "border": null,
      "bottom": null,
      "display": null,
      "flex": null,
      "flex_flow": null,
      "grid_area": null,
      "grid_auto_columns": null,
      "grid_auto_flow": null,
      "grid_auto_rows": null,
      "grid_column": null,
      "grid_gap": null,
      "grid_row": null,
      "grid_template_areas": null,
      "grid_template_columns": null,
      "grid_template_rows": null,
      "height": null,
      "justify_content": null,
      "justify_items": null,
      "left": null,
      "margin": null,
      "max_height": null,
      "max_width": null,
      "min_height": null,
      "min_width": null,
      "object_fit": null,
      "object_position": null,
      "order": null,
      "overflow": null,
      "overflow_x": null,
      "overflow_y": null,
      "padding": null,
      "right": null,
      "top": null,
      "visibility": null,
      "width": null
     }
    },
    "73a0e8df4bb940bc8feae14e0a66d9c5": {
     "model_module": "@jupyter-widgets/base",
     "model_module_version": "1.2.0",
     "model_name": "LayoutModel",
     "state": {
      "_model_module": "@jupyter-widgets/base",
      "_model_module_version": "1.2.0",
      "_model_name": "LayoutModel",
      "_view_count": null,
      "_view_module": "@jupyter-widgets/base",
      "_view_module_version": "1.2.0",
      "_view_name": "LayoutView",
      "align_content": null,
      "align_items": null,
      "align_self": null,
      "border": null,
      "bottom": null,
      "display": null,
      "flex": null,
      "flex_flow": null,
      "grid_area": null,
      "grid_auto_columns": null,
      "grid_auto_flow": null,
      "grid_auto_rows": null,
      "grid_column": null,
      "grid_gap": null,
      "grid_row": null,
      "grid_template_areas": null,
      "grid_template_columns": null,
      "grid_template_rows": null,
      "height": null,
      "justify_content": null,
      "justify_items": null,
      "left": null,
      "margin": null,
      "max_height": null,
      "max_width": null,
      "min_height": null,
      "min_width": null,
      "object_fit": null,
      "object_position": null,
      "order": null,
      "overflow": null,
      "overflow_x": null,
      "overflow_y": null,
      "padding": null,
      "right": null,
      "top": null,
      "visibility": null,
      "width": null
     }
    },
    "76677587cf184477bafcc9d5459b5767": {
     "model_module": "@jupyter-widgets/controls",
     "model_module_version": "1.5.0",
     "model_name": "DescriptionStyleModel",
     "state": {
      "_model_module": "@jupyter-widgets/controls",
      "_model_module_version": "1.5.0",
      "_model_name": "DescriptionStyleModel",
      "_view_count": null,
      "_view_module": "@jupyter-widgets/base",
      "_view_module_version": "1.2.0",
      "_view_name": "StyleView",
      "description_width": ""
     }
    },
    "8cdc3b2a910748e98327462922dc008a": {
     "model_module": "@jupyter-widgets/controls",
     "model_module_version": "1.5.0",
     "model_name": "HBoxModel",
     "state": {
      "_dom_classes": [],
      "_model_module": "@jupyter-widgets/controls",
      "_model_module_version": "1.5.0",
      "_model_name": "HBoxModel",
      "_view_count": null,
      "_view_module": "@jupyter-widgets/controls",
      "_view_module_version": "1.5.0",
      "_view_name": "HBoxView",
      "box_style": "",
      "children": [
       "IPY_MODEL_32bd3d1217f24bb8a5e2f853633098d8",
       "IPY_MODEL_dd93a997785a41568a8aba9cf5c0d83a",
       "IPY_MODEL_956741460c504706aa097058dbc6eecf"
      ],
      "layout": "IPY_MODEL_e4024c536d594ea2be54f471eacd485f"
     }
    },
    "956741460c504706aa097058dbc6eecf": {
     "model_module": "@jupyter-widgets/controls",
     "model_module_version": "1.5.0",
     "model_name": "HTMLModel",
     "state": {
      "_dom_classes": [],
      "_model_module": "@jupyter-widgets/controls",
      "_model_module_version": "1.5.0",
      "_model_name": "HTMLModel",
      "_view_count": null,
      "_view_module": "@jupyter-widgets/controls",
      "_view_module_version": "1.5.0",
      "_view_name": "HTMLView",
      "description": "",
      "description_tooltip": null,
      "layout": "IPY_MODEL_73a0e8df4bb940bc8feae14e0a66d9c5",
      "placeholder": "​",
      "style": "IPY_MODEL_ccdbe78adf2f4011946e290c81bd1a51",
      "value": " 39/39 [03:30&lt;00:00,  6.04s/it]"
     }
    },
    "9cf878888ef0434b9cf5883cb29a4d3f": {
     "model_module": "@jupyter-widgets/controls",
     "model_module_version": "1.5.0",
     "model_name": "DropdownModel",
     "state": {
      "_dom_classes": [],
      "_model_module": "@jupyter-widgets/controls",
      "_model_module_version": "1.5.0",
      "_model_name": "DropdownModel",
      "_options_labels": [
       "Select language",
       "----------",
       "Afrikaans (af_za)",
       "Amharic (am_et)",
       "Arabic (ar_eg)",
       "Armenian (hy_am)",
       "Assamese (as_in)",
       "Azerbaijani (az_az)",
       "Belarusian (be_by)",
       "Bengali (bn_in)",
       "Bosnian (bs_ba)",
       "Bulgarian (bg_bg)",
       "Catalan (ca_es)",
       "Chinese (cmn_hans_cn)",
       "Croatian (hr_hr)",
       "Czech (cs_cz)",
       "Danish (da_dk)",
       "Dutch (nl_nl)",
       "English (en_us)",
       "Estonian (et_ee)",
       "Finnish (fi_fi)",
       "French (fr_fr)",
       "Galician (gl_es)",
       "Georgian (ka_ge)",
       "German (de_de)",
       "Greek (el_gr)",
       "Gujarati (gu_in)",
       "Hausa (ha_ng)",
       "Hebrew (he_il)",
       "Hindi (hi_in)",
       "Hungarian (hu_hu)",
       "Icelandic (is_is)",
       "Indonesian (id_id)",
       "Italian (it_it)",
       "Japanese (ja_jp)",
       "Javanese (jv_id)",
       "Kannada (kn_in)",
       "Kazakh (kk_kz)",
       "Khmer (km_kh)",
       "Korean (ko_kr)",
       "Lao (lo_la)",
       "Latvian (lv_lv)",
       "Lingala (ln_cd)",
       "Lithuanian (lt_lt)",
       "Luxembourgish (lb_lu)",
       "Macedonian (mk_mk)",
       "Malay (ms_my)",
       "Malayalam (ml_in)",
       "Maltese (mt_mt)",
       "Maori (mi_nz)",
       "Marathi (mr_in)",
       "Mongolian (mn_mn)",
       "Myanmar (my_mm)",
       "Nepali (ne_np)",
       "Norwegian (nb_no)",
       "Occitan (oc_fr)",
       "Pashto (ps_af)",
       "Persian (fa_ir)",
       "Polish (pl_pl)",
       "Portuguese (pt_br)",
       "Punjabi (pa_in)",
       "Romanian (ro_ro)",
       "Russian (ru_ru)",
       "Serbian (sr_rs)",
       "Shona (sn_zw)",
       "Sindhi (sd_in)",
       "Slovak (sk_sk)",
       "Slovenian (sl_si)",
       "Somali (so_so)",
       "Spanish (es_419)",
       "Swahili (sw_ke)",
       "Swedish (sv_se)",
       "Tagalog (fil_ph)",
       "Tajik (tg_tj)",
       "Tamil (ta_in)",
       "Telugu (te_in)",
       "Thai (th_th)",
       "Turkish (tr_tr)",
       "Ukrainian (uk_ua)",
       "Urdu (ur_pk)",
       "Uzbek (uz_uz)",
       "Vietnamese (vi_vn)",
       "Welsh (cy_gb)",
       "Yoruba (yo_ng)"
      ],
      "_view_count": null,
      "_view_module": "@jupyter-widgets/controls",
      "_view_module_version": "1.5.0",
      "_view_name": "DropdownView",
      "description": "Language:",
      "description_tooltip": null,
      "disabled": false,
      "index": 39,
      "layout": "IPY_MODEL_26369a54159f4f46bb7ba89d0c66f6cb",
      "style": "IPY_MODEL_c78c2f0f2945498a93257ce00a5ee9a7"
     }
    },
    "c78c2f0f2945498a93257ce00a5ee9a7": {
     "model_module": "@jupyter-widgets/controls",
     "model_module_version": "1.5.0",
     "model_name": "DescriptionStyleModel",
     "state": {
      "_model_module": "@jupyter-widgets/controls",
      "_model_module_version": "1.5.0",
      "_model_name": "DescriptionStyleModel",
      "_view_count": null,
      "_view_module": "@jupyter-widgets/base",
      "_view_module_version": "1.2.0",
      "_view_name": "StyleView",
      "description_width": ""
     }
    },
    "ccdbe78adf2f4011946e290c81bd1a51": {
     "model_module": "@jupyter-widgets/controls",
     "model_module_version": "1.5.0",
     "model_name": "DescriptionStyleModel",
     "state": {
      "_model_module": "@jupyter-widgets/controls",
      "_model_module_version": "1.5.0",
      "_model_name": "DescriptionStyleModel",
      "_view_count": null,
      "_view_module": "@jupyter-widgets/base",
      "_view_module_version": "1.2.0",
      "_view_name": "StyleView",
      "description_width": ""
     }
    },
    "dafffcc9b35c4bca95f19079d7c8be60": {
     "model_module": "@jupyter-widgets/controls",
     "model_module_version": "1.5.0",
     "model_name": "ProgressStyleModel",
     "state": {
      "_model_module": "@jupyter-widgets/controls",
      "_model_module_version": "1.5.0",
      "_model_name": "ProgressStyleModel",
      "_view_count": null,
      "_view_module": "@jupyter-widgets/base",
      "_view_module_version": "1.2.0",
      "_view_name": "StyleView",
      "bar_color": null,
      "description_width": ""
     }
    },
    "dd93a997785a41568a8aba9cf5c0d83a": {
     "model_module": "@jupyter-widgets/controls",
     "model_module_version": "1.5.0",
     "model_name": "FloatProgressModel",
     "state": {
      "_dom_classes": [],
      "_model_module": "@jupyter-widgets/controls",
      "_model_module_version": "1.5.0",
      "_model_name": "FloatProgressModel",
      "_view_count": null,
      "_view_module": "@jupyter-widgets/controls",
      "_view_module_version": "1.5.0",
      "_view_name": "ProgressView",
      "bar_style": "success",
      "description": "",
      "description_tooltip": null,
      "layout": "IPY_MODEL_50a75e807f144f438032a8fcdb9cdbe0",
      "max": 39,
      "min": 0,
      "orientation": "horizontal",
      "style": "IPY_MODEL_dafffcc9b35c4bca95f19079d7c8be60",
      "value": 39
     }
    },
    "e4024c536d594ea2be54f471eacd485f": {
     "model_module": "@jupyter-widgets/base",
     "model_module_version": "1.2.0",
     "model_name": "LayoutModel",
     "state": {
      "_model_module": "@jupyter-widgets/base",
      "_model_module_version": "1.2.0",
      "_model_name": "LayoutModel",
      "_view_count": null,
      "_view_module": "@jupyter-widgets/base",
      "_view_module_version": "1.2.0",
      "_view_name": "LayoutView",
      "align_content": null,
      "align_items": null,
      "align_self": null,
      "border": null,
      "bottom": null,
      "display": null,
      "flex": null,
      "flex_flow": null,
      "grid_area": null,
      "grid_auto_columns": null,
      "grid_auto_flow": null,
      "grid_auto_rows": null,
      "grid_column": null,
      "grid_gap": null,
      "grid_row": null,
      "grid_template_areas": null,
      "grid_template_columns": null,
      "grid_template_rows": null,
      "height": null,
      "justify_content": null,
      "justify_items": null,
      "left": null,
      "margin": null,
      "max_height": null,
      "max_width": null,
      "min_height": null,
      "min_width": null,
      "object_fit": null,
      "object_position": null,
      "order": null,
      "overflow": null,
      "overflow_x": null,
      "overflow_y": null,
      "padding": null,
      "right": null,
      "top": null,
      "visibility": null,
      "width": null
     }
    },
    "f8eb2f7fc8c1400bb8dc351ea7fa6cfa": {
     "model_module": "@jupyter-widgets/base",
     "model_module_version": "1.2.0",
     "model_name": "LayoutModel",
     "state": {
      "_model_module": "@jupyter-widgets/base",
      "_model_module_version": "1.2.0",
      "_model_name": "LayoutModel",
      "_view_count": null,
      "_view_module": "@jupyter-widgets/base",
      "_view_module_version": "1.2.0",
      "_view_name": "LayoutView",
      "align_content": null,
      "align_items": null,
      "align_self": null,
      "border": null,
      "bottom": null,
      "display": null,
      "flex": null,
      "flex_flow": null,
      "grid_area": null,
      "grid_auto_columns": null,
      "grid_auto_flow": null,
      "grid_auto_rows": null,
      "grid_column": null,
      "grid_gap": null,
      "grid_row": null,
      "grid_template_areas": null,
      "grid_template_columns": null,
      "grid_template_rows": null,
      "height": null,
      "justify_content": null,
      "justify_items": null,
      "left": null,
      "margin": null,
      "max_height": null,
      "max_width": null,
      "min_height": null,
      "min_width": null,
      "object_fit": null,
      "object_position": null,
      "order": null,
      "overflow": null,
      "overflow_x": null,
      "overflow_y": null,
      "padding": null,
      "right": null,
      "top": null,
      "visibility": null,
      "width": null
     }
    }
   }
  }
 },
 "nbformat": 4,
 "nbformat_minor": 4
}
